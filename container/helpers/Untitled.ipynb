{
 "cells": [
  {
   "cell_type": "code",
   "execution_count": 120,
   "metadata": {},
   "outputs": [
    {
     "name": "stdout",
     "output_type": "stream",
     "text": [
      "120\n"
     ]
    }
   ],
   "source": [
    "# clean bash output\n",
    "import re \n",
    "with open('out') as f:\n",
    "    s_with_header = f.read()#.splitlines(False)[7:]\n",
    "    idx = re.search('GMT', s_with_header).end(0) #\n",
    "    s_no_header = s_with_header[idx:].strip()\n",
    "    data = eval(s_no_header)\n",
    "    \n",
    "print(len(data))"
   ]
  },
  {
   "cell_type": "code",
   "execution_count": 147,
   "metadata": {},
   "outputs": [
    {
     "data": {
      "text/plain": [
       "1701.8"
      ]
     },
     "execution_count": 147,
     "metadata": {},
     "output_type": "execute_result"
    }
   ],
   "source": [
    "import pandas as pd\n",
    "df = pd.DataFrame(data=data, columns=['id', 'Task', 'Start', 'Finish', 'Complete', 'type', 'answer'])\n",
    "df = df[df.type.str.contains('proj.tasks.run_octave_file')]\n",
    "\n",
    "\n",
    "BSeuCallUII_COS=3\n",
    "BSeuCallUI_COS=1\n",
    "BSeuCallUI_RBFFD=5.6\n",
    "BSeuCallUII_RBFD=160\n",
    "df.answer.value_counts()\n",
    "\n",
    "13*BSeuCallUI_RBFFD + 11 * BSeuCallUI_COS + 10*BSeuCallUII_RBFD + 6*BSeuCallUII_COS\n"
   ]
  },
  {
   "cell_type": "code",
   "execution_count": 139,
   "metadata": {},
   "outputs": [
    {
     "name": "stdout",
     "output_type": "stream",
     "text": [
      "948.6185739040375\n"
     ]
    },
    {
     "data": {
      "text/html": [
       "<div>\n",
       "<style scoped>\n",
       "    .dataframe tbody tr th:only-of-type {\n",
       "        vertical-align: middle;\n",
       "    }\n",
       "\n",
       "    .dataframe tbody tr th {\n",
       "        vertical-align: top;\n",
       "    }\n",
       "\n",
       "    .dataframe thead th {\n",
       "        text-align: right;\n",
       "    }\n",
       "</style>\n",
       "<table border=\"1\" class=\"dataframe\">\n",
       "  <thead>\n",
       "    <tr style=\"text-align: right;\">\n",
       "      <th></th>\n",
       "      <th>Task</th>\n",
       "      <th>Start</th>\n",
       "      <th>Finish</th>\n",
       "      <th>Complete</th>\n",
       "    </tr>\n",
       "  </thead>\n",
       "  <tbody>\n",
       "    <tr>\n",
       "      <th>2</th>\n",
       "      <td>d1cb2364de3e</td>\n",
       "      <td>1.541407e+09</td>\n",
       "      <td>1.541407e+09</td>\n",
       "      <td>7.682263</td>\n",
       "    </tr>\n",
       "    <tr>\n",
       "      <th>4</th>\n",
       "      <td>d1cb2364de3e</td>\n",
       "      <td>1.541407e+09</td>\n",
       "      <td>1.541407e+09</td>\n",
       "      <td>10.602220</td>\n",
       "    </tr>\n",
       "    <tr>\n",
       "      <th>7</th>\n",
       "      <td>d1cb2364de3e</td>\n",
       "      <td>1.541407e+09</td>\n",
       "      <td>1.541407e+09</td>\n",
       "      <td>1.061815</td>\n",
       "    </tr>\n",
       "    <tr>\n",
       "      <th>8</th>\n",
       "      <td>b50ca5aad85b</td>\n",
       "      <td>1.541407e+09</td>\n",
       "      <td>1.541407e+09</td>\n",
       "      <td>0.692621</td>\n",
       "    </tr>\n",
       "    <tr>\n",
       "      <th>9</th>\n",
       "      <td>3feb547cc4ff</td>\n",
       "      <td>1.541407e+09</td>\n",
       "      <td>1.541408e+09</td>\n",
       "      <td>943.804079</td>\n",
       "    </tr>\n",
       "    <tr>\n",
       "      <th>12</th>\n",
       "      <td>b50ca5aad85b</td>\n",
       "      <td>1.541407e+09</td>\n",
       "      <td>1.541407e+09</td>\n",
       "      <td>7.389447</td>\n",
       "    </tr>\n",
       "    <tr>\n",
       "      <th>16</th>\n",
       "      <td>f85884d6dd29</td>\n",
       "      <td>1.541407e+09</td>\n",
       "      <td>1.541408e+09</td>\n",
       "      <td>1013.335391</td>\n",
       "    </tr>\n",
       "    <tr>\n",
       "      <th>20</th>\n",
       "      <td>d1cb2364de3e</td>\n",
       "      <td>1.541407e+09</td>\n",
       "      <td>1.541407e+09</td>\n",
       "      <td>0.659216</td>\n",
       "    </tr>\n",
       "    <tr>\n",
       "      <th>24</th>\n",
       "      <td>b50ca5aad85b</td>\n",
       "      <td>1.541407e+09</td>\n",
       "      <td>1.541407e+09</td>\n",
       "      <td>0.719204</td>\n",
       "    </tr>\n",
       "    <tr>\n",
       "      <th>29</th>\n",
       "      <td>f85884d6dd29</td>\n",
       "      <td>1.541407e+09</td>\n",
       "      <td>1.541407e+09</td>\n",
       "      <td>12.986625</td>\n",
       "    </tr>\n",
       "    <tr>\n",
       "      <th>34</th>\n",
       "      <td>3feb547cc4ff</td>\n",
       "      <td>1.541407e+09</td>\n",
       "      <td>1.541408e+09</td>\n",
       "      <td>949.127903</td>\n",
       "    </tr>\n",
       "    <tr>\n",
       "      <th>35</th>\n",
       "      <td>f85884d6dd29</td>\n",
       "      <td>1.541407e+09</td>\n",
       "      <td>1.541407e+09</td>\n",
       "      <td>0.802684</td>\n",
       "    </tr>\n",
       "    <tr>\n",
       "      <th>37</th>\n",
       "      <td>b50ca5aad85b</td>\n",
       "      <td>1.541407e+09</td>\n",
       "      <td>1.541407e+09</td>\n",
       "      <td>7.616344</td>\n",
       "    </tr>\n",
       "    <tr>\n",
       "      <th>39</th>\n",
       "      <td>d1cb2364de3e</td>\n",
       "      <td>1.541407e+09</td>\n",
       "      <td>1.541407e+09</td>\n",
       "      <td>0.741980</td>\n",
       "    </tr>\n",
       "    <tr>\n",
       "      <th>46</th>\n",
       "      <td>b50ca5aad85b</td>\n",
       "      <td>1.541407e+09</td>\n",
       "      <td>1.541407e+09</td>\n",
       "      <td>11.174385</td>\n",
       "    </tr>\n",
       "    <tr>\n",
       "      <th>49</th>\n",
       "      <td>d1cb2364de3e</td>\n",
       "      <td>1.541407e+09</td>\n",
       "      <td>1.541407e+09</td>\n",
       "      <td>0.542877</td>\n",
       "    </tr>\n",
       "    <tr>\n",
       "      <th>50</th>\n",
       "      <td>f85884d6dd29</td>\n",
       "      <td>1.541407e+09</td>\n",
       "      <td>1.541408e+09</td>\n",
       "      <td>1019.761568</td>\n",
       "    </tr>\n",
       "    <tr>\n",
       "      <th>52</th>\n",
       "      <td>b50ca5aad85b</td>\n",
       "      <td>1.541407e+09</td>\n",
       "      <td>1.541407e+09</td>\n",
       "      <td>587.340695</td>\n",
       "    </tr>\n",
       "    <tr>\n",
       "      <th>55</th>\n",
       "      <td>3feb547cc4ff</td>\n",
       "      <td>1.541407e+09</td>\n",
       "      <td>1.541407e+09</td>\n",
       "      <td>4.062987</td>\n",
       "    </tr>\n",
       "    <tr>\n",
       "      <th>59</th>\n",
       "      <td>d1cb2364de3e</td>\n",
       "      <td>1.541407e+09</td>\n",
       "      <td>1.541407e+09</td>\n",
       "      <td>0.620514</td>\n",
       "    </tr>\n",
       "    <tr>\n",
       "      <th>61</th>\n",
       "      <td>3feb547cc4ff</td>\n",
       "      <td>1.541407e+09</td>\n",
       "      <td>1.541407e+09</td>\n",
       "      <td>0.550211</td>\n",
       "    </tr>\n",
       "    <tr>\n",
       "      <th>63</th>\n",
       "      <td>b50ca5aad85b</td>\n",
       "      <td>1.541407e+09</td>\n",
       "      <td>1.541407e+09</td>\n",
       "      <td>0.662070</td>\n",
       "    </tr>\n",
       "    <tr>\n",
       "      <th>66</th>\n",
       "      <td>3feb547cc4ff</td>\n",
       "      <td>1.541407e+09</td>\n",
       "      <td>1.541407e+09</td>\n",
       "      <td>5.086180</td>\n",
       "    </tr>\n",
       "    <tr>\n",
       "      <th>77</th>\n",
       "      <td>f85884d6dd29</td>\n",
       "      <td>1.541407e+09</td>\n",
       "      <td>1.541408e+09</td>\n",
       "      <td>1025.393549</td>\n",
       "    </tr>\n",
       "    <tr>\n",
       "      <th>81</th>\n",
       "      <td>3feb547cc4ff</td>\n",
       "      <td>1.541407e+09</td>\n",
       "      <td>1.541407e+09</td>\n",
       "      <td>10.878944</td>\n",
       "    </tr>\n",
       "    <tr>\n",
       "      <th>84</th>\n",
       "      <td>d1cb2364de3e</td>\n",
       "      <td>1.541407e+09</td>\n",
       "      <td>1.541407e+09</td>\n",
       "      <td>0.729651</td>\n",
       "    </tr>\n",
       "    <tr>\n",
       "      <th>85</th>\n",
       "      <td>b50ca5aad85b</td>\n",
       "      <td>1.541407e+09</td>\n",
       "      <td>1.541407e+09</td>\n",
       "      <td>9.972956</td>\n",
       "    </tr>\n",
       "    <tr>\n",
       "      <th>86</th>\n",
       "      <td>d1cb2364de3e</td>\n",
       "      <td>1.541407e+09</td>\n",
       "      <td>1.541407e+09</td>\n",
       "      <td>7.651285</td>\n",
       "    </tr>\n",
       "    <tr>\n",
       "      <th>87</th>\n",
       "      <td>f85884d6dd29</td>\n",
       "      <td>1.541407e+09</td>\n",
       "      <td>1.541407e+09</td>\n",
       "      <td>10.869587</td>\n",
       "    </tr>\n",
       "    <tr>\n",
       "      <th>88</th>\n",
       "      <td>f85884d6dd29</td>\n",
       "      <td>1.541407e+09</td>\n",
       "      <td>1.541408e+09</td>\n",
       "      <td>1019.888672</td>\n",
       "    </tr>\n",
       "    <tr>\n",
       "      <th>90</th>\n",
       "      <td>b50ca5aad85b</td>\n",
       "      <td>1.541407e+09</td>\n",
       "      <td>1.541407e+09</td>\n",
       "      <td>17.327664</td>\n",
       "    </tr>\n",
       "    <tr>\n",
       "      <th>91</th>\n",
       "      <td>b50ca5aad85b</td>\n",
       "      <td>1.541407e+09</td>\n",
       "      <td>1.541407e+09</td>\n",
       "      <td>580.020717</td>\n",
       "    </tr>\n",
       "    <tr>\n",
       "      <th>97</th>\n",
       "      <td>3feb547cc4ff</td>\n",
       "      <td>1.541408e+09</td>\n",
       "      <td>1.541408e+09</td>\n",
       "      <td>0.716936</td>\n",
       "    </tr>\n",
       "    <tr>\n",
       "      <th>101</th>\n",
       "      <td>3feb547cc4ff</td>\n",
       "      <td>1.541407e+09</td>\n",
       "      <td>1.541408e+09</td>\n",
       "      <td>957.151571</td>\n",
       "    </tr>\n",
       "    <tr>\n",
       "      <th>103</th>\n",
       "      <td>d1cb2364de3e</td>\n",
       "      <td>1.541407e+09</td>\n",
       "      <td>1.541407e+09</td>\n",
       "      <td>10.912441</td>\n",
       "    </tr>\n",
       "    <tr>\n",
       "      <th>108</th>\n",
       "      <td>d1cb2364de3e</td>\n",
       "      <td>1.541407e+09</td>\n",
       "      <td>1.541407e+09</td>\n",
       "      <td>10.837648</td>\n",
       "    </tr>\n",
       "    <tr>\n",
       "      <th>109</th>\n",
       "      <td>3feb547cc4ff</td>\n",
       "      <td>1.541407e+09</td>\n",
       "      <td>1.541408e+09</td>\n",
       "      <td>957.089136</td>\n",
       "    </tr>\n",
       "    <tr>\n",
       "      <th>110</th>\n",
       "      <td>3feb547cc4ff</td>\n",
       "      <td>1.541407e+09</td>\n",
       "      <td>1.541407e+09</td>\n",
       "      <td>0.514505</td>\n",
       "    </tr>\n",
       "    <tr>\n",
       "      <th>111</th>\n",
       "      <td>d1cb2364de3e</td>\n",
       "      <td>1.541407e+09</td>\n",
       "      <td>1.541407e+09</td>\n",
       "      <td>10.769670</td>\n",
       "    </tr>\n",
       "    <tr>\n",
       "      <th>117</th>\n",
       "      <td>f85884d6dd29</td>\n",
       "      <td>1.541407e+09</td>\n",
       "      <td>1.541407e+09</td>\n",
       "      <td>13.419143</td>\n",
       "    </tr>\n",
       "  </tbody>\n",
       "</table>\n",
       "</div>"
      ],
      "text/plain": [
       "             Task         Start        Finish     Complete\n",
       "2    d1cb2364de3e  1.541407e+09  1.541407e+09     7.682263\n",
       "4    d1cb2364de3e  1.541407e+09  1.541407e+09    10.602220\n",
       "7    d1cb2364de3e  1.541407e+09  1.541407e+09     1.061815\n",
       "8    b50ca5aad85b  1.541407e+09  1.541407e+09     0.692621\n",
       "9    3feb547cc4ff  1.541407e+09  1.541408e+09   943.804079\n",
       "12   b50ca5aad85b  1.541407e+09  1.541407e+09     7.389447\n",
       "16   f85884d6dd29  1.541407e+09  1.541408e+09  1013.335391\n",
       "20   d1cb2364de3e  1.541407e+09  1.541407e+09     0.659216\n",
       "24   b50ca5aad85b  1.541407e+09  1.541407e+09     0.719204\n",
       "29   f85884d6dd29  1.541407e+09  1.541407e+09    12.986625\n",
       "34   3feb547cc4ff  1.541407e+09  1.541408e+09   949.127903\n",
       "35   f85884d6dd29  1.541407e+09  1.541407e+09     0.802684\n",
       "37   b50ca5aad85b  1.541407e+09  1.541407e+09     7.616344\n",
       "39   d1cb2364de3e  1.541407e+09  1.541407e+09     0.741980\n",
       "46   b50ca5aad85b  1.541407e+09  1.541407e+09    11.174385\n",
       "49   d1cb2364de3e  1.541407e+09  1.541407e+09     0.542877\n",
       "50   f85884d6dd29  1.541407e+09  1.541408e+09  1019.761568\n",
       "52   b50ca5aad85b  1.541407e+09  1.541407e+09   587.340695\n",
       "55   3feb547cc4ff  1.541407e+09  1.541407e+09     4.062987\n",
       "59   d1cb2364de3e  1.541407e+09  1.541407e+09     0.620514\n",
       "61   3feb547cc4ff  1.541407e+09  1.541407e+09     0.550211\n",
       "63   b50ca5aad85b  1.541407e+09  1.541407e+09     0.662070\n",
       "66   3feb547cc4ff  1.541407e+09  1.541407e+09     5.086180\n",
       "77   f85884d6dd29  1.541407e+09  1.541408e+09  1025.393549\n",
       "81   3feb547cc4ff  1.541407e+09  1.541407e+09    10.878944\n",
       "84   d1cb2364de3e  1.541407e+09  1.541407e+09     0.729651\n",
       "85   b50ca5aad85b  1.541407e+09  1.541407e+09     9.972956\n",
       "86   d1cb2364de3e  1.541407e+09  1.541407e+09     7.651285\n",
       "87   f85884d6dd29  1.541407e+09  1.541407e+09    10.869587\n",
       "88   f85884d6dd29  1.541407e+09  1.541408e+09  1019.888672\n",
       "90   b50ca5aad85b  1.541407e+09  1.541407e+09    17.327664\n",
       "91   b50ca5aad85b  1.541407e+09  1.541407e+09   580.020717\n",
       "97   3feb547cc4ff  1.541408e+09  1.541408e+09     0.716936\n",
       "101  3feb547cc4ff  1.541407e+09  1.541408e+09   957.151571\n",
       "103  d1cb2364de3e  1.541407e+09  1.541407e+09    10.912441\n",
       "108  d1cb2364de3e  1.541407e+09  1.541407e+09    10.837648\n",
       "109  3feb547cc4ff  1.541407e+09  1.541408e+09   957.089136\n",
       "110  3feb547cc4ff  1.541407e+09  1.541407e+09     0.514505\n",
       "111  d1cb2364de3e  1.541407e+09  1.541407e+09    10.769670\n",
       "117  f85884d6dd29  1.541407e+09  1.541407e+09    13.419143"
      ]
     },
     "execution_count": 139,
     "metadata": {},
     "output_type": "execute_result"
    }
   ],
   "source": [
    "df1 = df[['Task', 'Start', 'Finish', 'Complete']]#[df.Complete > 0.65][df.Complete < 300]\n",
    "print df1['Start'].max() - df['Finish'].min()\n",
    "\n",
    "df1"
   ]
  },
  {
   "cell_type": "code",
   "execution_count": 140,
   "metadata": {},
   "outputs": [
    {
     "data": {
      "text/html": [
       "<script type=\"text/javascript\">window.PlotlyConfig = {MathJaxConfig: 'local'};</script><script type=\"text/javascript\">if (window.MathJax) {MathJax.Hub.Config({SVG: {font: \"STIX-Web\"}});}</script><script>requirejs.config({paths: { 'plotly': ['https://cdn.plot.ly/plotly-latest.min']},});if(!window._Plotly) {require(['plotly'],function(plotly) {window._Plotly=plotly;});}</script>"
      ],
      "text/vnd.plotly.v1+html": [
       "<script type=\"text/javascript\">window.PlotlyConfig = {MathJaxConfig: 'local'};</script><script type=\"text/javascript\">if (window.MathJax) {MathJax.Hub.Config({SVG: {font: \"STIX-Web\"}});}</script><script>requirejs.config({paths: { 'plotly': ['https://cdn.plot.ly/plotly-latest.min']},});if(!window._Plotly) {require(['plotly'],function(plotly) {window._Plotly=plotly;});}</script>"
      ]
     },
     "metadata": {},
     "output_type": "display_data"
    }
   ],
   "source": [
    "from plotly.offline import init_notebook_mode\n",
    "init_notebook_mode(connected=True)\n",
    "df_f = df1.T.to_dict().values()\n",
    "\n",
    "##todo: remove chords/unlocks, create dataframe from data matrix, remove priority "
   ]
  },
  {
   "cell_type": "code",
   "execution_count": 141,
   "metadata": {},
   "outputs": [
    {
     "data": {
      "application/vnd.plotly.v1+json": {
       "data": [
        {
         "marker": {
          "color": "white"
         },
         "name": "",
         "type": "scatter",
         "uid": "3d9eae15-8481-44c6-805f-2ecf305c4c7f",
         "x": [
          1541406648.008878,
          1541406655.691141
         ],
         "y": [
          3,
          3
         ]
        },
        {
         "marker": {
          "color": "white"
         },
         "name": "",
         "type": "scatter",
         "uid": "9254b8fe-1334-458c-baf3-dce2b8377aa0",
         "x": [
          1541406636.280329,
          1541406646.882549
         ],
         "y": [
          3,
          3
         ]
        },
        {
         "marker": {
          "color": "white"
         },
         "name": "",
         "type": "scatter",
         "uid": "c2084624-2e19-4f05-86bb-8dc3ebb26e38",
         "x": [
          1541406635.190355,
          1541406636.25217
         ],
         "y": [
          3,
          3
         ]
        },
        {
         "marker": {
          "color": "white"
         },
         "name": "",
         "type": "scatter",
         "uid": "72c880f6-44a0-4be5-94ba-a02736dce9af",
         "x": [
          1541406653.249114,
          1541406653.941735
         ],
         "y": [
          2,
          2
         ]
        },
        {
         "marker": {
          "color": "white"
         },
         "name": "",
         "type": "scatter",
         "uid": "d7c459e2-ebb9-47d9-adc5-b73f5b3fba73",
         "x": [
          1541406641.056065,
          1541407584.860144
         ],
         "y": [
          1,
          1
         ]
        },
        {
         "marker": {
          "color": "white"
         },
         "name": "",
         "type": "scatter",
         "uid": "6b279025-0aca-4e44-b93f-3bc6bf57dfe2",
         "x": [
          1541406634.397853,
          1541406641.7873
         ],
         "y": [
          2,
          2
         ]
        },
        {
         "marker": {
          "color": "white"
         },
         "name": "",
         "type": "scatter",
         "uid": "a651c33f-0487-4a84-bf72-ef466d6f1ff0",
         "x": [
          1541406659.712563,
          1541407673.047954
         ],
         "y": [
          0,
          0
         ]
        },
        {
         "marker": {
          "color": "white"
         },
         "name": "",
         "type": "scatter",
         "uid": "d2fad71f-0838-40e6-89f0-6da26be04dbb",
         "x": [
          1541406636.284199,
          1541406636.943415
         ],
         "y": [
          3,
          3
         ]
        },
        {
         "marker": {
          "color": "white"
         },
         "name": "",
         "type": "scatter",
         "uid": "16bd7c29-9ecf-4738-8ea4-d1114d6810e9",
         "x": [
          1541406641.927012,
          1541406642.646216
         ],
         "y": [
          2,
          2
         ]
        },
        {
         "marker": {
          "color": "white"
         },
         "name": "",
         "type": "scatter",
         "uid": "123e45be-ba4f-4fa0-971d-bba9cb93eac9",
         "x": [
          1541406634.565204,
          1541406647.551829
         ],
         "y": [
          0,
          0
         ]
        },
        {
         "marker": {
          "color": "white"
         },
         "name": "",
         "type": "scatter",
         "uid": "d584af13-4bb1-4582-817b-1a7540854261",
         "x": [
          1541406653.31993,
          1541407602.447833
         ],
         "y": [
          1,
          1
         ]
        },
        {
         "marker": {
          "color": "white"
         },
         "name": "",
         "type": "scatter",
         "uid": "47beb35e-affd-41e9-9546-a15f78fee24e",
         "x": [
          1541406658.901505,
          1541406659.704189
         ],
         "y": [
          0,
          0
         ]
        },
        {
         "marker": {
          "color": "white"
         },
         "name": "",
         "type": "scatter",
         "uid": "2a84b349-82ac-474f-88f9-c5747c9508cc",
         "x": [
          1541406634.289125,
          1541406641.905469
         ],
         "y": [
          2,
          2
         ]
        },
        {
         "marker": {
          "color": "white"
         },
         "name": "",
         "type": "scatter",
         "uid": "5a5236a5-95ad-40a2-b4d4-718531f285eb",
         "x": [
          1541406647.187788,
          1541406647.929768
         ],
         "y": [
          3,
          3
         ]
        },
        {
         "marker": {
          "color": "white"
         },
         "name": "",
         "type": "scatter",
         "uid": "697160ac-f2af-4a95-a9e1-ac5ccb2d03de",
         "x": [
          1541406641.863673,
          1541406653.038058
         ],
         "y": [
          2,
          2
         ]
        },
        {
         "marker": {
          "color": "white"
         },
         "name": "",
         "type": "scatter",
         "uid": "e1b464e0-4d3f-48d2-8c6c-bb1b3958953e",
         "x": [
          1541406646.628048,
          1541406647.170925
         ],
         "y": [
          3,
          3
         ]
        },
        {
         "marker": {
          "color": "white"
         },
         "name": "",
         "type": "scatter",
         "uid": "3ebda570-964a-4104-a00e-2eba93f2e9cb",
         "x": [
          1541406634.224816,
          1541407653.986384
         ],
         "y": [
          0,
          0
         ]
        },
        {
         "marker": {
          "color": "white"
         },
         "name": "",
         "type": "scatter",
         "uid": "d8a42d97-7915-416b-b5dd-b8210601991e",
         "x": [
          1541406634.502426,
          1541407221.843121
         ],
         "y": [
          2,
          2
         ]
        },
        {
         "marker": {
          "color": "white"
         },
         "name": "",
         "type": "scatter",
         "uid": "d64d443d-b2ea-438c-93be-26023502a7df",
         "x": [
          1541406636.369194,
          1541406640.432181
         ],
         "y": [
          1,
          1
         ]
        },
        {
         "marker": {
          "color": "white"
         },
         "name": "",
         "type": "scatter",
         "uid": "07d5c9c0-cee1-402c-ae95-cf169e0ec2df",
         "x": [
          1541406646.864757,
          1541406647.485271
         ],
         "y": [
          3,
          3
         ]
        },
        {
         "marker": {
          "color": "white"
         },
         "name": "",
         "type": "scatter",
         "uid": "868db6d0-b6b1-4794-941a-2430a68c52c7",
         "x": [
          1541406641.121648,
          1541406641.671859
         ],
         "y": [
          1,
          1
         ]
        },
        {
         "marker": {
          "color": "white"
         },
         "name": "",
         "type": "scatter",
         "uid": "551c8e95-dc2b-489a-b8fa-b459626be101",
         "x": [
          1541406651.948519,
          1541406652.610589
         ],
         "y": [
          2,
          2
         ]
        },
        {
         "marker": {
          "color": "white"
         },
         "name": "",
         "type": "scatter",
         "uid": "7702ea71-3984-447a-88e5-6ca50def69bb",
         "x": [
          1541406635.465494,
          1541406640.551674
         ],
         "y": [
          1,
          1
         ]
        },
        {
         "marker": {
          "color": "white"
         },
         "name": "",
         "type": "scatter",
         "uid": "aeb0cd30-3ee2-46f6-8611-f0066f302600",
         "x": [
          1541406634.349985,
          1541407659.743534
         ],
         "y": [
          0,
          0
         ]
        },
        {
         "marker": {
          "color": "white"
         },
         "name": "",
         "type": "scatter",
         "uid": "29018d3a-0778-46b9-8d65-face3c1729be",
         "x": [
          1541406642.251999,
          1541406653.130943
         ],
         "y": [
          1,
          1
         ]
        },
        {
         "marker": {
          "color": "white"
         },
         "name": "",
         "type": "scatter",
         "uid": "4afcb881-bb28-41b4-a61e-8adb5b2e22f6",
         "x": [
          1541406646.039584,
          1541406646.769235
         ],
         "y": [
          3,
          3
         ]
        },
        {
         "marker": {
          "color": "white"
         },
         "name": "",
         "type": "scatter",
         "uid": "47698fa9-bcb7-4b3e-8be4-59e8f9036a83",
         "x": [
          1541406652.616809,
          1541406662.589765
         ],
         "y": [
          2,
          2
         ]
        },
        {
         "marker": {
          "color": "white"
         },
         "name": "",
         "type": "scatter",
         "uid": "c63c68f2-ab37-4fc8-8f6b-18f6ffa3e81a",
         "x": [
          1541406647.4955,
          1541406655.146785
         ],
         "y": [
          3,
          3
         ]
        },
        {
         "marker": {
          "color": "white"
         },
         "name": "",
         "type": "scatter",
         "uid": "37add76a-629e-4abd-8733-f39dda105faf",
         "x": [
          1541406648.015306,
          1541406658.884893
         ],
         "y": [
          0,
          0
         ]
        },
        {
         "marker": {
          "color": "white"
         },
         "name": "",
         "type": "scatter",
         "uid": "d2415da0-3de3-4a43-b8fd-43a58249c93d",
         "x": [
          1541406647.587187,
          1541407667.475859
         ],
         "y": [
          0,
          0
         ]
        },
        {
         "marker": {
          "color": "white"
         },
         "name": "",
         "type": "scatter",
         "uid": "a49ea63d-01e5-4cb7-9363-ce41e2a989c1",
         "x": [
          1541406634.590694,
          1541406651.918358
         ],
         "y": [
          2,
          2
         ]
        },
        {
         "marker": {
          "color": "white"
         },
         "name": "",
         "type": "scatter",
         "uid": "724836e6-954f-441e-a6c1-284643a0813a",
         "x": [
          1541406642.661709,
          1541407222.682426
         ],
         "y": [
          2,
          2
         ]
        },
        {
         "marker": {
          "color": "white"
         },
         "name": "",
         "type": "scatter",
         "uid": "5e3f5d33-fb2b-4d20-bdf2-76db0b60f39c",
         "x": [
          1541407584.870744,
          1541407585.58768
         ],
         "y": [
          1,
          1
         ]
        },
        {
         "marker": {
          "color": "white"
         },
         "name": "",
         "type": "scatter",
         "uid": "ba8140b8-62bd-49d6-9dae-d5c6683e9b84",
         "x": [
          1541406636.332271,
          1541407593.483842
         ],
         "y": [
          1,
          1
         ]
        },
        {
         "marker": {
          "color": "white"
         },
         "name": "",
         "type": "scatter",
         "uid": "10b01446-6aef-4f1d-96e4-ee029f366be4",
         "x": [
          1541406635.120296,
          1541406646.032737
         ],
         "y": [
          3,
          3
         ]
        },
        {
         "marker": {
          "color": "white"
         },
         "name": "",
         "type": "scatter",
         "uid": "8c20cee1-4324-497d-8551-e2d166719745",
         "x": [
          1541406635.068417,
          1541406645.906065
         ],
         "y": [
          3,
          3
         ]
        },
        {
         "marker": {
          "color": "white"
         },
         "name": "",
         "type": "scatter",
         "uid": "4303166f-8d60-4dac-a5cb-e256464df9b9",
         "x": [
          1541406636.505594,
          1541407593.59473
         ],
         "y": [
          1,
          1
         ]
        },
        {
         "marker": {
          "color": "white"
         },
         "name": "",
         "type": "scatter",
         "uid": "05196aeb-42d7-411d-8aea-9b5250702283",
         "x": [
          1541406641.683382,
          1541406642.197887
         ],
         "y": [
          1,
          1
         ]
        },
        {
         "marker": {
          "color": "white"
         },
         "name": "",
         "type": "scatter",
         "uid": "5b4ee680-ff1f-4d3f-85fa-1f700c6a2e83",
         "x": [
          1541406637.099633,
          1541406647.869303
         ],
         "y": [
          3,
          3
         ]
        },
        {
         "marker": {
          "color": "white"
         },
         "name": "",
         "type": "scatter",
         "uid": "54d99670-bc04-4615-97c8-d6132a595143",
         "x": [
          1541406634.571742,
          1541406647.990885
         ],
         "y": [
          0,
          0
         ]
        }
       ],
       "layout": {
        "height": 600,
        "hovermode": "closest",
        "shapes": [
         {
          "fillcolor": "rgb(31, 119, 180)",
          "line": {
           "width": 0
          },
          "opacity": 1,
          "type": "rect",
          "x0": 1541406648.008878,
          "x1": 1541406655.691141,
          "xref": "x",
          "y0": 2.8,
          "y1": 3.2,
          "yref": "y"
         },
         {
          "fillcolor": "rgb(255, 127, 14)",
          "line": {
           "width": 0
          },
          "opacity": 1,
          "type": "rect",
          "x0": 1541406636.280329,
          "x1": 1541406646.882549,
          "xref": "x",
          "y0": 2.8,
          "y1": 3.2,
          "yref": "y"
         },
         {
          "fillcolor": "rgb(44, 160, 44)",
          "line": {
           "width": 0
          },
          "opacity": 1,
          "type": "rect",
          "x0": 1541406635.190355,
          "x1": 1541406636.25217,
          "xref": "x",
          "y0": 2.8,
          "y1": 3.2,
          "yref": "y"
         },
         {
          "fillcolor": "rgb(214, 39, 40)",
          "line": {
           "width": 0
          },
          "opacity": 1,
          "type": "rect",
          "x0": 1541406653.249114,
          "x1": 1541406653.941735,
          "xref": "x",
          "y0": 1.8,
          "y1": 2.2,
          "yref": "y"
         },
         {
          "fillcolor": "rgb(148, 103, 189)",
          "line": {
           "width": 0
          },
          "opacity": 1,
          "type": "rect",
          "x0": 1541406641.056065,
          "x1": 1541407584.860144,
          "xref": "x",
          "y0": 0.8,
          "y1": 1.2,
          "yref": "y"
         },
         {
          "fillcolor": "rgb(140, 86, 75)",
          "line": {
           "width": 0
          },
          "opacity": 1,
          "type": "rect",
          "x0": 1541406634.397853,
          "x1": 1541406641.7873,
          "xref": "x",
          "y0": 1.8,
          "y1": 2.2,
          "yref": "y"
         },
         {
          "fillcolor": "rgb(227, 119, 194)",
          "line": {
           "width": 0
          },
          "opacity": 1,
          "type": "rect",
          "x0": 1541406659.712563,
          "x1": 1541407673.047954,
          "xref": "x",
          "y0": -0.2,
          "y1": 0.2,
          "yref": "y"
         },
         {
          "fillcolor": "rgb(127, 127, 127)",
          "line": {
           "width": 0
          },
          "opacity": 1,
          "type": "rect",
          "x0": 1541406636.284199,
          "x1": 1541406636.943415,
          "xref": "x",
          "y0": 2.8,
          "y1": 3.2,
          "yref": "y"
         },
         {
          "fillcolor": "rgb(188, 189, 34)",
          "line": {
           "width": 0
          },
          "opacity": 1,
          "type": "rect",
          "x0": 1541406641.927012,
          "x1": 1541406642.646216,
          "xref": "x",
          "y0": 1.8,
          "y1": 2.2,
          "yref": "y"
         },
         {
          "fillcolor": "rgb(23, 190, 207)",
          "line": {
           "width": 0
          },
          "opacity": 1,
          "type": "rect",
          "x0": 1541406634.565204,
          "x1": 1541406647.551829,
          "xref": "x",
          "y0": -0.2,
          "y1": 0.2,
          "yref": "y"
         },
         {
          "fillcolor": "rgb(31, 119, 180)",
          "line": {
           "width": 0
          },
          "opacity": 1,
          "type": "rect",
          "x0": 1541406653.31993,
          "x1": 1541407602.447833,
          "xref": "x",
          "y0": 0.8,
          "y1": 1.2,
          "yref": "y"
         },
         {
          "fillcolor": "rgb(255, 127, 14)",
          "line": {
           "width": 0
          },
          "opacity": 1,
          "type": "rect",
          "x0": 1541406658.901505,
          "x1": 1541406659.704189,
          "xref": "x",
          "y0": -0.2,
          "y1": 0.2,
          "yref": "y"
         },
         {
          "fillcolor": "rgb(44, 160, 44)",
          "line": {
           "width": 0
          },
          "opacity": 1,
          "type": "rect",
          "x0": 1541406634.289125,
          "x1": 1541406641.905469,
          "xref": "x",
          "y0": 1.8,
          "y1": 2.2,
          "yref": "y"
         },
         {
          "fillcolor": "rgb(214, 39, 40)",
          "line": {
           "width": 0
          },
          "opacity": 1,
          "type": "rect",
          "x0": 1541406647.187788,
          "x1": 1541406647.929768,
          "xref": "x",
          "y0": 2.8,
          "y1": 3.2,
          "yref": "y"
         },
         {
          "fillcolor": "rgb(148, 103, 189)",
          "line": {
           "width": 0
          },
          "opacity": 1,
          "type": "rect",
          "x0": 1541406641.863673,
          "x1": 1541406653.038058,
          "xref": "x",
          "y0": 1.8,
          "y1": 2.2,
          "yref": "y"
         },
         {
          "fillcolor": "rgb(140, 86, 75)",
          "line": {
           "width": 0
          },
          "opacity": 1,
          "type": "rect",
          "x0": 1541406646.628048,
          "x1": 1541406647.170925,
          "xref": "x",
          "y0": 2.8,
          "y1": 3.2,
          "yref": "y"
         },
         {
          "fillcolor": "rgb(227, 119, 194)",
          "line": {
           "width": 0
          },
          "opacity": 1,
          "type": "rect",
          "x0": 1541406634.224816,
          "x1": 1541407653.986384,
          "xref": "x",
          "y0": -0.2,
          "y1": 0.2,
          "yref": "y"
         },
         {
          "fillcolor": "rgb(127, 127, 127)",
          "line": {
           "width": 0
          },
          "opacity": 1,
          "type": "rect",
          "x0": 1541406634.502426,
          "x1": 1541407221.843121,
          "xref": "x",
          "y0": 1.8,
          "y1": 2.2,
          "yref": "y"
         },
         {
          "fillcolor": "rgb(188, 189, 34)",
          "line": {
           "width": 0
          },
          "opacity": 1,
          "type": "rect",
          "x0": 1541406636.369194,
          "x1": 1541406640.432181,
          "xref": "x",
          "y0": 0.8,
          "y1": 1.2,
          "yref": "y"
         },
         {
          "fillcolor": "rgb(23, 190, 207)",
          "line": {
           "width": 0
          },
          "opacity": 1,
          "type": "rect",
          "x0": 1541406646.864757,
          "x1": 1541406647.485271,
          "xref": "x",
          "y0": 2.8,
          "y1": 3.2,
          "yref": "y"
         },
         {
          "fillcolor": "rgb(31, 119, 180)",
          "line": {
           "width": 0
          },
          "opacity": 1,
          "type": "rect",
          "x0": 1541406641.121648,
          "x1": 1541406641.671859,
          "xref": "x",
          "y0": 0.8,
          "y1": 1.2,
          "yref": "y"
         },
         {
          "fillcolor": "rgb(255, 127, 14)",
          "line": {
           "width": 0
          },
          "opacity": 1,
          "type": "rect",
          "x0": 1541406651.948519,
          "x1": 1541406652.610589,
          "xref": "x",
          "y0": 1.8,
          "y1": 2.2,
          "yref": "y"
         },
         {
          "fillcolor": "rgb(44, 160, 44)",
          "line": {
           "width": 0
          },
          "opacity": 1,
          "type": "rect",
          "x0": 1541406635.465494,
          "x1": 1541406640.551674,
          "xref": "x",
          "y0": 0.8,
          "y1": 1.2,
          "yref": "y"
         },
         {
          "fillcolor": "rgb(214, 39, 40)",
          "line": {
           "width": 0
          },
          "opacity": 1,
          "type": "rect",
          "x0": 1541406634.349985,
          "x1": 1541407659.743534,
          "xref": "x",
          "y0": -0.2,
          "y1": 0.2,
          "yref": "y"
         },
         {
          "fillcolor": "rgb(148, 103, 189)",
          "line": {
           "width": 0
          },
          "opacity": 1,
          "type": "rect",
          "x0": 1541406642.251999,
          "x1": 1541406653.130943,
          "xref": "x",
          "y0": 0.8,
          "y1": 1.2,
          "yref": "y"
         },
         {
          "fillcolor": "rgb(140, 86, 75)",
          "line": {
           "width": 0
          },
          "opacity": 1,
          "type": "rect",
          "x0": 1541406646.039584,
          "x1": 1541406646.769235,
          "xref": "x",
          "y0": 2.8,
          "y1": 3.2,
          "yref": "y"
         },
         {
          "fillcolor": "rgb(227, 119, 194)",
          "line": {
           "width": 0
          },
          "opacity": 1,
          "type": "rect",
          "x0": 1541406652.616809,
          "x1": 1541406662.589765,
          "xref": "x",
          "y0": 1.8,
          "y1": 2.2,
          "yref": "y"
         },
         {
          "fillcolor": "rgb(127, 127, 127)",
          "line": {
           "width": 0
          },
          "opacity": 1,
          "type": "rect",
          "x0": 1541406647.4955,
          "x1": 1541406655.146785,
          "xref": "x",
          "y0": 2.8,
          "y1": 3.2,
          "yref": "y"
         },
         {
          "fillcolor": "rgb(188, 189, 34)",
          "line": {
           "width": 0
          },
          "opacity": 1,
          "type": "rect",
          "x0": 1541406648.015306,
          "x1": 1541406658.884893,
          "xref": "x",
          "y0": -0.2,
          "y1": 0.2,
          "yref": "y"
         },
         {
          "fillcolor": "rgb(23, 190, 207)",
          "line": {
           "width": 0
          },
          "opacity": 1,
          "type": "rect",
          "x0": 1541406647.587187,
          "x1": 1541407667.475859,
          "xref": "x",
          "y0": -0.2,
          "y1": 0.2,
          "yref": "y"
         },
         {
          "fillcolor": "rgb(31, 119, 180)",
          "line": {
           "width": 0
          },
          "opacity": 1,
          "type": "rect",
          "x0": 1541406634.590694,
          "x1": 1541406651.918358,
          "xref": "x",
          "y0": 1.8,
          "y1": 2.2,
          "yref": "y"
         },
         {
          "fillcolor": "rgb(255, 127, 14)",
          "line": {
           "width": 0
          },
          "opacity": 1,
          "type": "rect",
          "x0": 1541406642.661709,
          "x1": 1541407222.682426,
          "xref": "x",
          "y0": 1.8,
          "y1": 2.2,
          "yref": "y"
         },
         {
          "fillcolor": "rgb(44, 160, 44)",
          "line": {
           "width": 0
          },
          "opacity": 1,
          "type": "rect",
          "x0": 1541407584.870744,
          "x1": 1541407585.58768,
          "xref": "x",
          "y0": 0.8,
          "y1": 1.2,
          "yref": "y"
         },
         {
          "fillcolor": "rgb(214, 39, 40)",
          "line": {
           "width": 0
          },
          "opacity": 1,
          "type": "rect",
          "x0": 1541406636.332271,
          "x1": 1541407593.483842,
          "xref": "x",
          "y0": 0.8,
          "y1": 1.2,
          "yref": "y"
         },
         {
          "fillcolor": "rgb(148, 103, 189)",
          "line": {
           "width": 0
          },
          "opacity": 1,
          "type": "rect",
          "x0": 1541406635.120296,
          "x1": 1541406646.032737,
          "xref": "x",
          "y0": 2.8,
          "y1": 3.2,
          "yref": "y"
         },
         {
          "fillcolor": "rgb(140, 86, 75)",
          "line": {
           "width": 0
          },
          "opacity": 1,
          "type": "rect",
          "x0": 1541406635.068417,
          "x1": 1541406645.906065,
          "xref": "x",
          "y0": 2.8,
          "y1": 3.2,
          "yref": "y"
         },
         {
          "fillcolor": "rgb(227, 119, 194)",
          "line": {
           "width": 0
          },
          "opacity": 1,
          "type": "rect",
          "x0": 1541406636.505594,
          "x1": 1541407593.59473,
          "xref": "x",
          "y0": 0.8,
          "y1": 1.2,
          "yref": "y"
         },
         {
          "fillcolor": "rgb(127, 127, 127)",
          "line": {
           "width": 0
          },
          "opacity": 1,
          "type": "rect",
          "x0": 1541406641.683382,
          "x1": 1541406642.197887,
          "xref": "x",
          "y0": 0.8,
          "y1": 1.2,
          "yref": "y"
         },
         {
          "fillcolor": "rgb(188, 189, 34)",
          "line": {
           "width": 0
          },
          "opacity": 1,
          "type": "rect",
          "x0": 1541406637.099633,
          "x1": 1541406647.869303,
          "xref": "x",
          "y0": 2.8,
          "y1": 3.2,
          "yref": "y"
         },
         {
          "fillcolor": "rgb(23, 190, 207)",
          "line": {
           "width": 0
          },
          "opacity": 1,
          "type": "rect",
          "x0": 1541406634.571742,
          "x1": 1541406647.990885,
          "xref": "x",
          "y0": -0.2,
          "y1": 0.2,
          "yref": "y"
         }
        ],
        "showlegend": false,
        "title": "Gantt Chart",
        "width": 900,
        "xaxis": {
         "rangeselector": {
          "buttons": [
           {
            "count": 7,
            "label": "1w",
            "step": "day",
            "stepmode": "backward"
           },
           {
            "count": 1,
            "label": "1m",
            "step": "month",
            "stepmode": "backward"
           },
           {
            "count": 6,
            "label": "6m",
            "step": "month",
            "stepmode": "backward"
           },
           {
            "count": 1,
            "label": "YTD",
            "step": "year",
            "stepmode": "todate"
           },
           {
            "count": 1,
            "label": "1y",
            "step": "year",
            "stepmode": "backward"
           },
           {
            "step": "all"
           }
          ]
         },
         "showgrid": false,
         "type": "date",
         "zeroline": false
        },
        "yaxis": {
         "autorange": false,
         "range": [
          -1,
          5
         ],
         "showgrid": false,
         "ticktext": [
          "f85884d6dd29",
          "3feb547cc4ff",
          "b50ca5aad85b",
          "d1cb2364de3e"
         ],
         "tickvals": [
          0,
          1,
          2,
          3
         ],
         "zeroline": false
        }
       }
      },
      "text/html": [
       "<div id=\"ab7a3061-a09d-4da0-b66c-fb7c3db02938\" style=\"height: 600px; width: 900px;\" class=\"plotly-graph-div\"></div><script type=\"text/javascript\">require([\"plotly\"], function(Plotly) { window.PLOTLYENV=window.PLOTLYENV || {};window.PLOTLYENV.BASE_URL=\"https://plot.ly\";Plotly.newPlot(\"ab7a3061-a09d-4da0-b66c-fb7c3db02938\", [{\"name\": \"\", \"marker\": {\"color\": \"white\"}, \"y\": [3, 3], \"x\": [1541406648.008878, 1541406655.691141], \"type\": \"scatter\", \"uid\": \"3d9eae15-8481-44c6-805f-2ecf305c4c7f\"}, {\"name\": \"\", \"marker\": {\"color\": \"white\"}, \"y\": [3, 3], \"x\": [1541406636.280329, 1541406646.882549], \"type\": \"scatter\", \"uid\": \"9254b8fe-1334-458c-baf3-dce2b8377aa0\"}, {\"name\": \"\", \"marker\": {\"color\": \"white\"}, \"y\": [3, 3], \"x\": [1541406635.190355, 1541406636.25217], \"type\": \"scatter\", \"uid\": \"c2084624-2e19-4f05-86bb-8dc3ebb26e38\"}, {\"name\": \"\", \"marker\": {\"color\": \"white\"}, \"y\": [2, 2], \"x\": [1541406653.249114, 1541406653.941735], \"type\": \"scatter\", \"uid\": \"72c880f6-44a0-4be5-94ba-a02736dce9af\"}, {\"name\": \"\", \"marker\": {\"color\": \"white\"}, \"y\": [1, 1], \"x\": [1541406641.056065, 1541407584.860144], \"type\": \"scatter\", \"uid\": \"d7c459e2-ebb9-47d9-adc5-b73f5b3fba73\"}, {\"name\": \"\", \"marker\": {\"color\": \"white\"}, \"y\": [2, 2], \"x\": [1541406634.397853, 1541406641.7873], \"type\": \"scatter\", \"uid\": \"6b279025-0aca-4e44-b93f-3bc6bf57dfe2\"}, {\"name\": \"\", \"marker\": {\"color\": \"white\"}, \"y\": [0, 0], \"x\": [1541406659.712563, 1541407673.047954], \"type\": \"scatter\", \"uid\": \"a651c33f-0487-4a84-bf72-ef466d6f1ff0\"}, {\"name\": \"\", \"marker\": {\"color\": \"white\"}, \"y\": [3, 3], \"x\": [1541406636.284199, 1541406636.943415], \"type\": \"scatter\", \"uid\": \"d2fad71f-0838-40e6-89f0-6da26be04dbb\"}, {\"name\": \"\", \"marker\": {\"color\": \"white\"}, \"y\": [2, 2], \"x\": [1541406641.927012, 1541406642.646216], \"type\": \"scatter\", \"uid\": \"16bd7c29-9ecf-4738-8ea4-d1114d6810e9\"}, {\"name\": \"\", \"marker\": {\"color\": \"white\"}, \"y\": [0, 0], \"x\": [1541406634.565204, 1541406647.551829], \"type\": \"scatter\", \"uid\": \"123e45be-ba4f-4fa0-971d-bba9cb93eac9\"}, {\"name\": \"\", \"marker\": {\"color\": \"white\"}, \"y\": [1, 1], \"x\": [1541406653.31993, 1541407602.447833], \"type\": \"scatter\", \"uid\": \"d584af13-4bb1-4582-817b-1a7540854261\"}, {\"name\": \"\", \"marker\": {\"color\": \"white\"}, \"y\": [0, 0], \"x\": [1541406658.901505, 1541406659.704189], \"type\": \"scatter\", \"uid\": \"47beb35e-affd-41e9-9546-a15f78fee24e\"}, {\"name\": \"\", \"marker\": {\"color\": \"white\"}, \"y\": [2, 2], \"x\": [1541406634.289125, 1541406641.905469], \"type\": \"scatter\", \"uid\": \"2a84b349-82ac-474f-88f9-c5747c9508cc\"}, {\"name\": \"\", \"marker\": {\"color\": \"white\"}, \"y\": [3, 3], \"x\": [1541406647.187788, 1541406647.929768], \"type\": \"scatter\", \"uid\": \"5a5236a5-95ad-40a2-b4d4-718531f285eb\"}, {\"name\": \"\", \"marker\": {\"color\": \"white\"}, \"y\": [2, 2], \"x\": [1541406641.863673, 1541406653.038058], \"type\": \"scatter\", \"uid\": \"697160ac-f2af-4a95-a9e1-ac5ccb2d03de\"}, {\"name\": \"\", \"marker\": {\"color\": \"white\"}, \"y\": [3, 3], \"x\": [1541406646.628048, 1541406647.170925], \"type\": \"scatter\", \"uid\": \"e1b464e0-4d3f-48d2-8c6c-bb1b3958953e\"}, {\"name\": \"\", \"marker\": {\"color\": \"white\"}, \"y\": [0, 0], \"x\": [1541406634.224816, 1541407653.986384], \"type\": \"scatter\", \"uid\": \"3ebda570-964a-4104-a00e-2eba93f2e9cb\"}, {\"name\": \"\", \"marker\": {\"color\": \"white\"}, \"y\": [2, 2], \"x\": [1541406634.502426, 1541407221.843121], \"type\": \"scatter\", \"uid\": \"d8a42d97-7915-416b-b5dd-b8210601991e\"}, {\"name\": \"\", \"marker\": {\"color\": \"white\"}, \"y\": [1, 1], \"x\": [1541406636.369194, 1541406640.432181], \"type\": \"scatter\", \"uid\": \"d64d443d-b2ea-438c-93be-26023502a7df\"}, {\"name\": \"\", \"marker\": {\"color\": \"white\"}, \"y\": [3, 3], \"x\": [1541406646.864757, 1541406647.485271], \"type\": \"scatter\", \"uid\": \"07d5c9c0-cee1-402c-ae95-cf169e0ec2df\"}, {\"name\": \"\", \"marker\": {\"color\": \"white\"}, \"y\": [1, 1], \"x\": [1541406641.121648, 1541406641.671859], \"type\": \"scatter\", \"uid\": \"868db6d0-b6b1-4794-941a-2430a68c52c7\"}, {\"name\": \"\", \"marker\": {\"color\": \"white\"}, \"y\": [2, 2], \"x\": [1541406651.948519, 1541406652.610589], \"type\": \"scatter\", \"uid\": \"551c8e95-dc2b-489a-b8fa-b459626be101\"}, {\"name\": \"\", \"marker\": {\"color\": \"white\"}, \"y\": [1, 1], \"x\": [1541406635.465494, 1541406640.551674], \"type\": \"scatter\", \"uid\": \"7702ea71-3984-447a-88e5-6ca50def69bb\"}, {\"name\": \"\", \"marker\": {\"color\": \"white\"}, \"y\": [0, 0], \"x\": [1541406634.349985, 1541407659.743534], \"type\": \"scatter\", \"uid\": \"aeb0cd30-3ee2-46f6-8611-f0066f302600\"}, {\"name\": \"\", \"marker\": {\"color\": \"white\"}, \"y\": [1, 1], \"x\": [1541406642.251999, 1541406653.130943], \"type\": \"scatter\", \"uid\": \"29018d3a-0778-46b9-8d65-face3c1729be\"}, {\"name\": \"\", \"marker\": {\"color\": \"white\"}, \"y\": [3, 3], \"x\": [1541406646.039584, 1541406646.769235], \"type\": \"scatter\", \"uid\": \"4afcb881-bb28-41b4-a61e-8adb5b2e22f6\"}, {\"name\": \"\", \"marker\": {\"color\": \"white\"}, \"y\": [2, 2], \"x\": [1541406652.616809, 1541406662.589765], \"type\": \"scatter\", \"uid\": \"47698fa9-bcb7-4b3e-8be4-59e8f9036a83\"}, {\"name\": \"\", \"marker\": {\"color\": \"white\"}, \"y\": [3, 3], \"x\": [1541406647.4955, 1541406655.146785], \"type\": \"scatter\", \"uid\": \"c63c68f2-ab37-4fc8-8f6b-18f6ffa3e81a\"}, {\"name\": \"\", \"marker\": {\"color\": \"white\"}, \"y\": [0, 0], \"x\": [1541406648.015306, 1541406658.884893], \"type\": \"scatter\", \"uid\": \"37add76a-629e-4abd-8733-f39dda105faf\"}, {\"name\": \"\", \"marker\": {\"color\": \"white\"}, \"y\": [0, 0], \"x\": [1541406647.587187, 1541407667.475859], \"type\": \"scatter\", \"uid\": \"d2415da0-3de3-4a43-b8fd-43a58249c93d\"}, {\"name\": \"\", \"marker\": {\"color\": \"white\"}, \"y\": [2, 2], \"x\": [1541406634.590694, 1541406651.918358], \"type\": \"scatter\", \"uid\": \"a49ea63d-01e5-4cb7-9363-ce41e2a989c1\"}, {\"name\": \"\", \"marker\": {\"color\": \"white\"}, \"y\": [2, 2], \"x\": [1541406642.661709, 1541407222.682426], \"type\": \"scatter\", \"uid\": \"724836e6-954f-441e-a6c1-284643a0813a\"}, {\"name\": \"\", \"marker\": {\"color\": \"white\"}, \"y\": [1, 1], \"x\": [1541407584.870744, 1541407585.58768], \"type\": \"scatter\", \"uid\": \"5e3f5d33-fb2b-4d20-bdf2-76db0b60f39c\"}, {\"name\": \"\", \"marker\": {\"color\": \"white\"}, \"y\": [1, 1], \"x\": [1541406636.332271, 1541407593.483842], \"type\": \"scatter\", \"uid\": \"ba8140b8-62bd-49d6-9dae-d5c6683e9b84\"}, {\"name\": \"\", \"marker\": {\"color\": \"white\"}, \"y\": [3, 3], \"x\": [1541406635.120296, 1541406646.032737], \"type\": \"scatter\", \"uid\": \"10b01446-6aef-4f1d-96e4-ee029f366be4\"}, {\"name\": \"\", \"marker\": {\"color\": \"white\"}, \"y\": [3, 3], \"x\": [1541406635.068417, 1541406645.906065], \"type\": \"scatter\", \"uid\": \"8c20cee1-4324-497d-8551-e2d166719745\"}, {\"name\": \"\", \"marker\": {\"color\": \"white\"}, \"y\": [1, 1], \"x\": [1541406636.505594, 1541407593.59473], \"type\": \"scatter\", \"uid\": \"4303166f-8d60-4dac-a5cb-e256464df9b9\"}, {\"name\": \"\", \"marker\": {\"color\": \"white\"}, \"y\": [1, 1], \"x\": [1541406641.683382, 1541406642.197887], \"type\": \"scatter\", \"uid\": \"05196aeb-42d7-411d-8aea-9b5250702283\"}, {\"name\": \"\", \"marker\": {\"color\": \"white\"}, \"y\": [3, 3], \"x\": [1541406637.099633, 1541406647.869303], \"type\": \"scatter\", \"uid\": \"5b4ee680-ff1f-4d3f-85fa-1f700c6a2e83\"}, {\"name\": \"\", \"marker\": {\"color\": \"white\"}, \"y\": [0, 0], \"x\": [1541406634.571742, 1541406647.990885], \"type\": \"scatter\", \"uid\": \"54d99670-bc04-4615-97c8-d6132a595143\"}], {\"showlegend\": false, \"yaxis\": {\"showgrid\": false, \"range\": [-1, 5], \"zeroline\": false, \"ticktext\": [\"f85884d6dd29\", \"3feb547cc4ff\", \"b50ca5aad85b\", \"d1cb2364de3e\"], \"autorange\": false, \"tickvals\": [0, 1, 2, 3]}, \"title\": \"Gantt Chart\", \"height\": 600, \"shapes\": [{\"opacity\": 1, \"xref\": \"x\", \"yref\": \"y\", \"fillcolor\": \"rgb(31, 119, 180)\", \"y1\": 3.2, \"y0\": 2.8, \"line\": {\"width\": 0}, \"x1\": 1541406655.691141, \"type\": \"rect\", \"x0\": 1541406648.008878}, {\"opacity\": 1, \"xref\": \"x\", \"yref\": \"y\", \"fillcolor\": \"rgb(255, 127, 14)\", \"y1\": 3.2, \"y0\": 2.8, \"line\": {\"width\": 0}, \"x1\": 1541406646.882549, \"type\": \"rect\", \"x0\": 1541406636.280329}, {\"opacity\": 1, \"xref\": \"x\", \"yref\": \"y\", \"fillcolor\": \"rgb(44, 160, 44)\", \"y1\": 3.2, \"y0\": 2.8, \"line\": {\"width\": 0}, \"x1\": 1541406636.25217, \"type\": \"rect\", \"x0\": 1541406635.190355}, {\"opacity\": 1, \"xref\": \"x\", \"yref\": \"y\", \"fillcolor\": \"rgb(214, 39, 40)\", \"y1\": 2.2, \"y0\": 1.8, \"line\": {\"width\": 0}, \"x1\": 1541406653.941735, \"type\": \"rect\", \"x0\": 1541406653.249114}, {\"opacity\": 1, \"xref\": \"x\", \"yref\": \"y\", \"fillcolor\": \"rgb(148, 103, 189)\", \"y1\": 1.2, \"y0\": 0.8, \"line\": {\"width\": 0}, \"x1\": 1541407584.860144, \"type\": \"rect\", \"x0\": 1541406641.056065}, {\"opacity\": 1, \"xref\": \"x\", \"yref\": \"y\", \"fillcolor\": \"rgb(140, 86, 75)\", \"y1\": 2.2, \"y0\": 1.8, \"line\": {\"width\": 0}, \"x1\": 1541406641.7873, \"type\": \"rect\", \"x0\": 1541406634.397853}, {\"opacity\": 1, \"xref\": \"x\", \"yref\": \"y\", \"fillcolor\": \"rgb(227, 119, 194)\", \"y1\": 0.2, \"y0\": -0.2, \"line\": {\"width\": 0}, \"x1\": 1541407673.047954, \"type\": \"rect\", \"x0\": 1541406659.712563}, {\"opacity\": 1, \"xref\": \"x\", \"yref\": \"y\", \"fillcolor\": \"rgb(127, 127, 127)\", \"y1\": 3.2, \"y0\": 2.8, \"line\": {\"width\": 0}, \"x1\": 1541406636.943415, \"type\": \"rect\", \"x0\": 1541406636.284199}, {\"opacity\": 1, \"xref\": \"x\", \"yref\": \"y\", \"fillcolor\": \"rgb(188, 189, 34)\", \"y1\": 2.2, \"y0\": 1.8, \"line\": {\"width\": 0}, \"x1\": 1541406642.646216, \"type\": \"rect\", \"x0\": 1541406641.927012}, {\"opacity\": 1, \"xref\": \"x\", \"yref\": \"y\", \"fillcolor\": \"rgb(23, 190, 207)\", \"y1\": 0.2, \"y0\": -0.2, \"line\": {\"width\": 0}, \"x1\": 1541406647.551829, \"type\": \"rect\", \"x0\": 1541406634.565204}, {\"opacity\": 1, \"xref\": \"x\", \"yref\": \"y\", \"fillcolor\": \"rgb(31, 119, 180)\", \"y1\": 1.2, \"y0\": 0.8, \"line\": {\"width\": 0}, \"x1\": 1541407602.447833, \"type\": \"rect\", \"x0\": 1541406653.31993}, {\"opacity\": 1, \"xref\": \"x\", \"yref\": \"y\", \"fillcolor\": \"rgb(255, 127, 14)\", \"y1\": 0.2, \"y0\": -0.2, \"line\": {\"width\": 0}, \"x1\": 1541406659.704189, \"type\": \"rect\", \"x0\": 1541406658.901505}, {\"opacity\": 1, \"xref\": \"x\", \"yref\": \"y\", \"fillcolor\": \"rgb(44, 160, 44)\", \"y1\": 2.2, \"y0\": 1.8, \"line\": {\"width\": 0}, \"x1\": 1541406641.905469, \"type\": \"rect\", \"x0\": 1541406634.289125}, {\"opacity\": 1, \"xref\": \"x\", \"yref\": \"y\", \"fillcolor\": \"rgb(214, 39, 40)\", \"y1\": 3.2, \"y0\": 2.8, \"line\": {\"width\": 0}, \"x1\": 1541406647.929768, \"type\": \"rect\", \"x0\": 1541406647.187788}, {\"opacity\": 1, \"xref\": \"x\", \"yref\": \"y\", \"fillcolor\": \"rgb(148, 103, 189)\", \"y1\": 2.2, \"y0\": 1.8, \"line\": {\"width\": 0}, \"x1\": 1541406653.038058, \"type\": \"rect\", \"x0\": 1541406641.863673}, {\"opacity\": 1, \"xref\": \"x\", \"yref\": \"y\", \"fillcolor\": \"rgb(140, 86, 75)\", \"y1\": 3.2, \"y0\": 2.8, \"line\": {\"width\": 0}, \"x1\": 1541406647.170925, \"type\": \"rect\", \"x0\": 1541406646.628048}, {\"opacity\": 1, \"xref\": \"x\", \"yref\": \"y\", \"fillcolor\": \"rgb(227, 119, 194)\", \"y1\": 0.2, \"y0\": -0.2, \"line\": {\"width\": 0}, \"x1\": 1541407653.986384, \"type\": \"rect\", \"x0\": 1541406634.224816}, {\"opacity\": 1, \"xref\": \"x\", \"yref\": \"y\", \"fillcolor\": \"rgb(127, 127, 127)\", \"y1\": 2.2, \"y0\": 1.8, \"line\": {\"width\": 0}, \"x1\": 1541407221.843121, \"type\": \"rect\", \"x0\": 1541406634.502426}, {\"opacity\": 1, \"xref\": \"x\", \"yref\": \"y\", \"fillcolor\": \"rgb(188, 189, 34)\", \"y1\": 1.2, \"y0\": 0.8, \"line\": {\"width\": 0}, \"x1\": 1541406640.432181, \"type\": \"rect\", \"x0\": 1541406636.369194}, {\"opacity\": 1, \"xref\": \"x\", \"yref\": \"y\", \"fillcolor\": \"rgb(23, 190, 207)\", \"y1\": 3.2, \"y0\": 2.8, \"line\": {\"width\": 0}, \"x1\": 1541406647.485271, \"type\": \"rect\", \"x0\": 1541406646.864757}, {\"opacity\": 1, \"xref\": \"x\", \"yref\": \"y\", \"fillcolor\": \"rgb(31, 119, 180)\", \"y1\": 1.2, \"y0\": 0.8, \"line\": {\"width\": 0}, \"x1\": 1541406641.671859, \"type\": \"rect\", \"x0\": 1541406641.121648}, {\"opacity\": 1, \"xref\": \"x\", \"yref\": \"y\", \"fillcolor\": \"rgb(255, 127, 14)\", \"y1\": 2.2, \"y0\": 1.8, \"line\": {\"width\": 0}, \"x1\": 1541406652.610589, \"type\": \"rect\", \"x0\": 1541406651.948519}, {\"opacity\": 1, \"xref\": \"x\", \"yref\": \"y\", \"fillcolor\": \"rgb(44, 160, 44)\", \"y1\": 1.2, \"y0\": 0.8, \"line\": {\"width\": 0}, \"x1\": 1541406640.551674, \"type\": \"rect\", \"x0\": 1541406635.465494}, {\"opacity\": 1, \"xref\": \"x\", \"yref\": \"y\", \"fillcolor\": \"rgb(214, 39, 40)\", \"y1\": 0.2, \"y0\": -0.2, \"line\": {\"width\": 0}, \"x1\": 1541407659.743534, \"type\": \"rect\", \"x0\": 1541406634.349985}, {\"opacity\": 1, \"xref\": \"x\", \"yref\": \"y\", \"fillcolor\": \"rgb(148, 103, 189)\", \"y1\": 1.2, \"y0\": 0.8, \"line\": {\"width\": 0}, \"x1\": 1541406653.130943, \"type\": \"rect\", \"x0\": 1541406642.251999}, {\"opacity\": 1, \"xref\": \"x\", \"yref\": \"y\", \"fillcolor\": \"rgb(140, 86, 75)\", \"y1\": 3.2, \"y0\": 2.8, \"line\": {\"width\": 0}, \"x1\": 1541406646.769235, \"type\": \"rect\", \"x0\": 1541406646.039584}, {\"opacity\": 1, \"xref\": \"x\", \"yref\": \"y\", \"fillcolor\": \"rgb(227, 119, 194)\", \"y1\": 2.2, \"y0\": 1.8, \"line\": {\"width\": 0}, \"x1\": 1541406662.589765, \"type\": \"rect\", \"x0\": 1541406652.616809}, {\"opacity\": 1, \"xref\": \"x\", \"yref\": \"y\", \"fillcolor\": \"rgb(127, 127, 127)\", \"y1\": 3.2, \"y0\": 2.8, \"line\": {\"width\": 0}, \"x1\": 1541406655.146785, \"type\": \"rect\", \"x0\": 1541406647.4955}, {\"opacity\": 1, \"xref\": \"x\", \"yref\": \"y\", \"fillcolor\": \"rgb(188, 189, 34)\", \"y1\": 0.2, \"y0\": -0.2, \"line\": {\"width\": 0}, \"x1\": 1541406658.884893, \"type\": \"rect\", \"x0\": 1541406648.015306}, {\"opacity\": 1, \"xref\": \"x\", \"yref\": \"y\", \"fillcolor\": \"rgb(23, 190, 207)\", \"y1\": 0.2, \"y0\": -0.2, \"line\": {\"width\": 0}, \"x1\": 1541407667.475859, \"type\": \"rect\", \"x0\": 1541406647.587187}, {\"opacity\": 1, \"xref\": \"x\", \"yref\": \"y\", \"fillcolor\": \"rgb(31, 119, 180)\", \"y1\": 2.2, \"y0\": 1.8, \"line\": {\"width\": 0}, \"x1\": 1541406651.918358, \"type\": \"rect\", \"x0\": 1541406634.590694}, {\"opacity\": 1, \"xref\": \"x\", \"yref\": \"y\", \"fillcolor\": \"rgb(255, 127, 14)\", \"y1\": 2.2, \"y0\": 1.8, \"line\": {\"width\": 0}, \"x1\": 1541407222.682426, \"type\": \"rect\", \"x0\": 1541406642.661709}, {\"opacity\": 1, \"xref\": \"x\", \"yref\": \"y\", \"fillcolor\": \"rgb(44, 160, 44)\", \"y1\": 1.2, \"y0\": 0.8, \"line\": {\"width\": 0}, \"x1\": 1541407585.58768, \"type\": \"rect\", \"x0\": 1541407584.870744}, {\"opacity\": 1, \"xref\": \"x\", \"yref\": \"y\", \"fillcolor\": \"rgb(214, 39, 40)\", \"y1\": 1.2, \"y0\": 0.8, \"line\": {\"width\": 0}, \"x1\": 1541407593.483842, \"type\": \"rect\", \"x0\": 1541406636.332271}, {\"opacity\": 1, \"xref\": \"x\", \"yref\": \"y\", \"fillcolor\": \"rgb(148, 103, 189)\", \"y1\": 3.2, \"y0\": 2.8, \"line\": {\"width\": 0}, \"x1\": 1541406646.032737, \"type\": \"rect\", \"x0\": 1541406635.120296}, {\"opacity\": 1, \"xref\": \"x\", \"yref\": \"y\", \"fillcolor\": \"rgb(140, 86, 75)\", \"y1\": 3.2, \"y0\": 2.8, \"line\": {\"width\": 0}, \"x1\": 1541406645.906065, \"type\": \"rect\", \"x0\": 1541406635.068417}, {\"opacity\": 1, \"xref\": \"x\", \"yref\": \"y\", \"fillcolor\": \"rgb(227, 119, 194)\", \"y1\": 1.2, \"y0\": 0.8, \"line\": {\"width\": 0}, \"x1\": 1541407593.59473, \"type\": \"rect\", \"x0\": 1541406636.505594}, {\"opacity\": 1, \"xref\": \"x\", \"yref\": \"y\", \"fillcolor\": \"rgb(127, 127, 127)\", \"y1\": 1.2, \"y0\": 0.8, \"line\": {\"width\": 0}, \"x1\": 1541406642.197887, \"type\": \"rect\", \"x0\": 1541406641.683382}, {\"opacity\": 1, \"xref\": \"x\", \"yref\": \"y\", \"fillcolor\": \"rgb(188, 189, 34)\", \"y1\": 3.2, \"y0\": 2.8, \"line\": {\"width\": 0}, \"x1\": 1541406647.869303, \"type\": \"rect\", \"x0\": 1541406637.099633}, {\"opacity\": 1, \"xref\": \"x\", \"yref\": \"y\", \"fillcolor\": \"rgb(23, 190, 207)\", \"y1\": 0.2, \"y0\": -0.2, \"line\": {\"width\": 0}, \"x1\": 1541406647.990885, \"type\": \"rect\", \"x0\": 1541406634.571742}], \"width\": 900, \"xaxis\": {\"zeroline\": false, \"rangeselector\": {\"buttons\": [{\"count\": 7, \"step\": \"day\", \"stepmode\": \"backward\", \"label\": \"1w\"}, {\"count\": 1, \"step\": \"month\", \"stepmode\": \"backward\", \"label\": \"1m\"}, {\"count\": 6, \"step\": \"month\", \"stepmode\": \"backward\", \"label\": \"6m\"}, {\"count\": 1, \"step\": \"year\", \"stepmode\": \"todate\", \"label\": \"YTD\"}, {\"count\": 1, \"step\": \"year\", \"stepmode\": \"backward\", \"label\": \"1y\"}, {\"step\": \"all\"}]}, \"type\": \"date\", \"showgrid\": false}, \"hovermode\": \"closest\"}, {\"linkText\": \"Export to plot.ly\", \"showLink\": true})});</script>"
      ],
      "text/vnd.plotly.v1+html": [
       "<div id=\"ab7a3061-a09d-4da0-b66c-fb7c3db02938\" style=\"height: 600px; width: 900px;\" class=\"plotly-graph-div\"></div><script type=\"text/javascript\">require([\"plotly\"], function(Plotly) { window.PLOTLYENV=window.PLOTLYENV || {};window.PLOTLYENV.BASE_URL=\"https://plot.ly\";Plotly.newPlot(\"ab7a3061-a09d-4da0-b66c-fb7c3db02938\", [{\"name\": \"\", \"marker\": {\"color\": \"white\"}, \"y\": [3, 3], \"x\": [1541406648.008878, 1541406655.691141], \"type\": \"scatter\", \"uid\": \"3d9eae15-8481-44c6-805f-2ecf305c4c7f\"}, {\"name\": \"\", \"marker\": {\"color\": \"white\"}, \"y\": [3, 3], \"x\": [1541406636.280329, 1541406646.882549], \"type\": \"scatter\", \"uid\": \"9254b8fe-1334-458c-baf3-dce2b8377aa0\"}, {\"name\": \"\", \"marker\": {\"color\": \"white\"}, \"y\": [3, 3], \"x\": [1541406635.190355, 1541406636.25217], \"type\": \"scatter\", \"uid\": \"c2084624-2e19-4f05-86bb-8dc3ebb26e38\"}, {\"name\": \"\", \"marker\": {\"color\": \"white\"}, \"y\": [2, 2], \"x\": [1541406653.249114, 1541406653.941735], \"type\": \"scatter\", \"uid\": \"72c880f6-44a0-4be5-94ba-a02736dce9af\"}, {\"name\": \"\", \"marker\": {\"color\": \"white\"}, \"y\": [1, 1], \"x\": [1541406641.056065, 1541407584.860144], \"type\": \"scatter\", \"uid\": \"d7c459e2-ebb9-47d9-adc5-b73f5b3fba73\"}, {\"name\": \"\", \"marker\": {\"color\": \"white\"}, \"y\": [2, 2], \"x\": [1541406634.397853, 1541406641.7873], \"type\": \"scatter\", \"uid\": \"6b279025-0aca-4e44-b93f-3bc6bf57dfe2\"}, {\"name\": \"\", \"marker\": {\"color\": \"white\"}, \"y\": [0, 0], \"x\": [1541406659.712563, 1541407673.047954], \"type\": \"scatter\", \"uid\": \"a651c33f-0487-4a84-bf72-ef466d6f1ff0\"}, {\"name\": \"\", \"marker\": {\"color\": \"white\"}, \"y\": [3, 3], \"x\": [1541406636.284199, 1541406636.943415], \"type\": \"scatter\", \"uid\": \"d2fad71f-0838-40e6-89f0-6da26be04dbb\"}, {\"name\": \"\", \"marker\": {\"color\": \"white\"}, \"y\": [2, 2], \"x\": [1541406641.927012, 1541406642.646216], \"type\": \"scatter\", \"uid\": \"16bd7c29-9ecf-4738-8ea4-d1114d6810e9\"}, {\"name\": \"\", \"marker\": {\"color\": \"white\"}, \"y\": [0, 0], \"x\": [1541406634.565204, 1541406647.551829], \"type\": \"scatter\", \"uid\": \"123e45be-ba4f-4fa0-971d-bba9cb93eac9\"}, {\"name\": \"\", \"marker\": {\"color\": \"white\"}, \"y\": [1, 1], \"x\": [1541406653.31993, 1541407602.447833], \"type\": \"scatter\", \"uid\": \"d584af13-4bb1-4582-817b-1a7540854261\"}, {\"name\": \"\", \"marker\": {\"color\": \"white\"}, \"y\": [0, 0], \"x\": [1541406658.901505, 1541406659.704189], \"type\": \"scatter\", \"uid\": \"47beb35e-affd-41e9-9546-a15f78fee24e\"}, {\"name\": \"\", \"marker\": {\"color\": \"white\"}, \"y\": [2, 2], \"x\": [1541406634.289125, 1541406641.905469], \"type\": \"scatter\", \"uid\": \"2a84b349-82ac-474f-88f9-c5747c9508cc\"}, {\"name\": \"\", \"marker\": {\"color\": \"white\"}, \"y\": [3, 3], \"x\": [1541406647.187788, 1541406647.929768], \"type\": \"scatter\", \"uid\": \"5a5236a5-95ad-40a2-b4d4-718531f285eb\"}, {\"name\": \"\", \"marker\": {\"color\": \"white\"}, \"y\": [2, 2], \"x\": [1541406641.863673, 1541406653.038058], \"type\": \"scatter\", \"uid\": \"697160ac-f2af-4a95-a9e1-ac5ccb2d03de\"}, {\"name\": \"\", \"marker\": {\"color\": \"white\"}, \"y\": [3, 3], \"x\": [1541406646.628048, 1541406647.170925], \"type\": \"scatter\", \"uid\": \"e1b464e0-4d3f-48d2-8c6c-bb1b3958953e\"}, {\"name\": \"\", \"marker\": {\"color\": \"white\"}, \"y\": [0, 0], \"x\": [1541406634.224816, 1541407653.986384], \"type\": \"scatter\", \"uid\": \"3ebda570-964a-4104-a00e-2eba93f2e9cb\"}, {\"name\": \"\", \"marker\": {\"color\": \"white\"}, \"y\": [2, 2], \"x\": [1541406634.502426, 1541407221.843121], \"type\": \"scatter\", \"uid\": \"d8a42d97-7915-416b-b5dd-b8210601991e\"}, {\"name\": \"\", \"marker\": {\"color\": \"white\"}, \"y\": [1, 1], \"x\": [1541406636.369194, 1541406640.432181], \"type\": \"scatter\", \"uid\": \"d64d443d-b2ea-438c-93be-26023502a7df\"}, {\"name\": \"\", \"marker\": {\"color\": \"white\"}, \"y\": [3, 3], \"x\": [1541406646.864757, 1541406647.485271], \"type\": \"scatter\", \"uid\": \"07d5c9c0-cee1-402c-ae95-cf169e0ec2df\"}, {\"name\": \"\", \"marker\": {\"color\": \"white\"}, \"y\": [1, 1], \"x\": [1541406641.121648, 1541406641.671859], \"type\": \"scatter\", \"uid\": \"868db6d0-b6b1-4794-941a-2430a68c52c7\"}, {\"name\": \"\", \"marker\": {\"color\": \"white\"}, \"y\": [2, 2], \"x\": [1541406651.948519, 1541406652.610589], \"type\": \"scatter\", \"uid\": \"551c8e95-dc2b-489a-b8fa-b459626be101\"}, {\"name\": \"\", \"marker\": {\"color\": \"white\"}, \"y\": [1, 1], \"x\": [1541406635.465494, 1541406640.551674], \"type\": \"scatter\", \"uid\": \"7702ea71-3984-447a-88e5-6ca50def69bb\"}, {\"name\": \"\", \"marker\": {\"color\": \"white\"}, \"y\": [0, 0], \"x\": [1541406634.349985, 1541407659.743534], \"type\": \"scatter\", \"uid\": \"aeb0cd30-3ee2-46f6-8611-f0066f302600\"}, {\"name\": \"\", \"marker\": {\"color\": \"white\"}, \"y\": [1, 1], \"x\": [1541406642.251999, 1541406653.130943], \"type\": \"scatter\", \"uid\": \"29018d3a-0778-46b9-8d65-face3c1729be\"}, {\"name\": \"\", \"marker\": {\"color\": \"white\"}, \"y\": [3, 3], \"x\": [1541406646.039584, 1541406646.769235], \"type\": \"scatter\", \"uid\": \"4afcb881-bb28-41b4-a61e-8adb5b2e22f6\"}, {\"name\": \"\", \"marker\": {\"color\": \"white\"}, \"y\": [2, 2], \"x\": [1541406652.616809, 1541406662.589765], \"type\": \"scatter\", \"uid\": \"47698fa9-bcb7-4b3e-8be4-59e8f9036a83\"}, {\"name\": \"\", \"marker\": {\"color\": \"white\"}, \"y\": [3, 3], \"x\": [1541406647.4955, 1541406655.146785], \"type\": \"scatter\", \"uid\": \"c63c68f2-ab37-4fc8-8f6b-18f6ffa3e81a\"}, {\"name\": \"\", \"marker\": {\"color\": \"white\"}, \"y\": [0, 0], \"x\": [1541406648.015306, 1541406658.884893], \"type\": \"scatter\", \"uid\": \"37add76a-629e-4abd-8733-f39dda105faf\"}, {\"name\": \"\", \"marker\": {\"color\": \"white\"}, \"y\": [0, 0], \"x\": [1541406647.587187, 1541407667.475859], \"type\": \"scatter\", \"uid\": \"d2415da0-3de3-4a43-b8fd-43a58249c93d\"}, {\"name\": \"\", \"marker\": {\"color\": \"white\"}, \"y\": [2, 2], \"x\": [1541406634.590694, 1541406651.918358], \"type\": \"scatter\", \"uid\": \"a49ea63d-01e5-4cb7-9363-ce41e2a989c1\"}, {\"name\": \"\", \"marker\": {\"color\": \"white\"}, \"y\": [2, 2], \"x\": [1541406642.661709, 1541407222.682426], \"type\": \"scatter\", \"uid\": \"724836e6-954f-441e-a6c1-284643a0813a\"}, {\"name\": \"\", \"marker\": {\"color\": \"white\"}, \"y\": [1, 1], \"x\": [1541407584.870744, 1541407585.58768], \"type\": \"scatter\", \"uid\": \"5e3f5d33-fb2b-4d20-bdf2-76db0b60f39c\"}, {\"name\": \"\", \"marker\": {\"color\": \"white\"}, \"y\": [1, 1], \"x\": [1541406636.332271, 1541407593.483842], \"type\": \"scatter\", \"uid\": \"ba8140b8-62bd-49d6-9dae-d5c6683e9b84\"}, {\"name\": \"\", \"marker\": {\"color\": \"white\"}, \"y\": [3, 3], \"x\": [1541406635.120296, 1541406646.032737], \"type\": \"scatter\", \"uid\": \"10b01446-6aef-4f1d-96e4-ee029f366be4\"}, {\"name\": \"\", \"marker\": {\"color\": \"white\"}, \"y\": [3, 3], \"x\": [1541406635.068417, 1541406645.906065], \"type\": \"scatter\", \"uid\": \"8c20cee1-4324-497d-8551-e2d166719745\"}, {\"name\": \"\", \"marker\": {\"color\": \"white\"}, \"y\": [1, 1], \"x\": [1541406636.505594, 1541407593.59473], \"type\": \"scatter\", \"uid\": \"4303166f-8d60-4dac-a5cb-e256464df9b9\"}, {\"name\": \"\", \"marker\": {\"color\": \"white\"}, \"y\": [1, 1], \"x\": [1541406641.683382, 1541406642.197887], \"type\": \"scatter\", \"uid\": \"05196aeb-42d7-411d-8aea-9b5250702283\"}, {\"name\": \"\", \"marker\": {\"color\": \"white\"}, \"y\": [3, 3], \"x\": [1541406637.099633, 1541406647.869303], \"type\": \"scatter\", \"uid\": \"5b4ee680-ff1f-4d3f-85fa-1f700c6a2e83\"}, {\"name\": \"\", \"marker\": {\"color\": \"white\"}, \"y\": [0, 0], \"x\": [1541406634.571742, 1541406647.990885], \"type\": \"scatter\", \"uid\": \"54d99670-bc04-4615-97c8-d6132a595143\"}], {\"showlegend\": false, \"yaxis\": {\"showgrid\": false, \"range\": [-1, 5], \"zeroline\": false, \"ticktext\": [\"f85884d6dd29\", \"3feb547cc4ff\", \"b50ca5aad85b\", \"d1cb2364de3e\"], \"autorange\": false, \"tickvals\": [0, 1, 2, 3]}, \"title\": \"Gantt Chart\", \"height\": 600, \"shapes\": [{\"opacity\": 1, \"xref\": \"x\", \"yref\": \"y\", \"fillcolor\": \"rgb(31, 119, 180)\", \"y1\": 3.2, \"y0\": 2.8, \"line\": {\"width\": 0}, \"x1\": 1541406655.691141, \"type\": \"rect\", \"x0\": 1541406648.008878}, {\"opacity\": 1, \"xref\": \"x\", \"yref\": \"y\", \"fillcolor\": \"rgb(255, 127, 14)\", \"y1\": 3.2, \"y0\": 2.8, \"line\": {\"width\": 0}, \"x1\": 1541406646.882549, \"type\": \"rect\", \"x0\": 1541406636.280329}, {\"opacity\": 1, \"xref\": \"x\", \"yref\": \"y\", \"fillcolor\": \"rgb(44, 160, 44)\", \"y1\": 3.2, \"y0\": 2.8, \"line\": {\"width\": 0}, \"x1\": 1541406636.25217, \"type\": \"rect\", \"x0\": 1541406635.190355}, {\"opacity\": 1, \"xref\": \"x\", \"yref\": \"y\", \"fillcolor\": \"rgb(214, 39, 40)\", \"y1\": 2.2, \"y0\": 1.8, \"line\": {\"width\": 0}, \"x1\": 1541406653.941735, \"type\": \"rect\", \"x0\": 1541406653.249114}, {\"opacity\": 1, \"xref\": \"x\", \"yref\": \"y\", \"fillcolor\": \"rgb(148, 103, 189)\", \"y1\": 1.2, \"y0\": 0.8, \"line\": {\"width\": 0}, \"x1\": 1541407584.860144, \"type\": \"rect\", \"x0\": 1541406641.056065}, {\"opacity\": 1, \"xref\": \"x\", \"yref\": \"y\", \"fillcolor\": \"rgb(140, 86, 75)\", \"y1\": 2.2, \"y0\": 1.8, \"line\": {\"width\": 0}, \"x1\": 1541406641.7873, \"type\": \"rect\", \"x0\": 1541406634.397853}, {\"opacity\": 1, \"xref\": \"x\", \"yref\": \"y\", \"fillcolor\": \"rgb(227, 119, 194)\", \"y1\": 0.2, \"y0\": -0.2, \"line\": {\"width\": 0}, \"x1\": 1541407673.047954, \"type\": \"rect\", \"x0\": 1541406659.712563}, {\"opacity\": 1, \"xref\": \"x\", \"yref\": \"y\", \"fillcolor\": \"rgb(127, 127, 127)\", \"y1\": 3.2, \"y0\": 2.8, \"line\": {\"width\": 0}, \"x1\": 1541406636.943415, \"type\": \"rect\", \"x0\": 1541406636.284199}, {\"opacity\": 1, \"xref\": \"x\", \"yref\": \"y\", \"fillcolor\": \"rgb(188, 189, 34)\", \"y1\": 2.2, \"y0\": 1.8, \"line\": {\"width\": 0}, \"x1\": 1541406642.646216, \"type\": \"rect\", \"x0\": 1541406641.927012}, {\"opacity\": 1, \"xref\": \"x\", \"yref\": \"y\", \"fillcolor\": \"rgb(23, 190, 207)\", \"y1\": 0.2, \"y0\": -0.2, \"line\": {\"width\": 0}, \"x1\": 1541406647.551829, \"type\": \"rect\", \"x0\": 1541406634.565204}, {\"opacity\": 1, \"xref\": \"x\", \"yref\": \"y\", \"fillcolor\": \"rgb(31, 119, 180)\", \"y1\": 1.2, \"y0\": 0.8, \"line\": {\"width\": 0}, \"x1\": 1541407602.447833, \"type\": \"rect\", \"x0\": 1541406653.31993}, {\"opacity\": 1, \"xref\": \"x\", \"yref\": \"y\", \"fillcolor\": \"rgb(255, 127, 14)\", \"y1\": 0.2, \"y0\": -0.2, \"line\": {\"width\": 0}, \"x1\": 1541406659.704189, \"type\": \"rect\", \"x0\": 1541406658.901505}, {\"opacity\": 1, \"xref\": \"x\", \"yref\": \"y\", \"fillcolor\": \"rgb(44, 160, 44)\", \"y1\": 2.2, \"y0\": 1.8, \"line\": {\"width\": 0}, \"x1\": 1541406641.905469, \"type\": \"rect\", \"x0\": 1541406634.289125}, {\"opacity\": 1, \"xref\": \"x\", \"yref\": \"y\", \"fillcolor\": \"rgb(214, 39, 40)\", \"y1\": 3.2, \"y0\": 2.8, \"line\": {\"width\": 0}, \"x1\": 1541406647.929768, \"type\": \"rect\", \"x0\": 1541406647.187788}, {\"opacity\": 1, \"xref\": \"x\", \"yref\": \"y\", \"fillcolor\": \"rgb(148, 103, 189)\", \"y1\": 2.2, \"y0\": 1.8, \"line\": {\"width\": 0}, \"x1\": 1541406653.038058, \"type\": \"rect\", \"x0\": 1541406641.863673}, {\"opacity\": 1, \"xref\": \"x\", \"yref\": \"y\", \"fillcolor\": \"rgb(140, 86, 75)\", \"y1\": 3.2, \"y0\": 2.8, \"line\": {\"width\": 0}, \"x1\": 1541406647.170925, \"type\": \"rect\", \"x0\": 1541406646.628048}, {\"opacity\": 1, \"xref\": \"x\", \"yref\": \"y\", \"fillcolor\": \"rgb(227, 119, 194)\", \"y1\": 0.2, \"y0\": -0.2, \"line\": {\"width\": 0}, \"x1\": 1541407653.986384, \"type\": \"rect\", \"x0\": 1541406634.224816}, {\"opacity\": 1, \"xref\": \"x\", \"yref\": \"y\", \"fillcolor\": \"rgb(127, 127, 127)\", \"y1\": 2.2, \"y0\": 1.8, \"line\": {\"width\": 0}, \"x1\": 1541407221.843121, \"type\": \"rect\", \"x0\": 1541406634.502426}, {\"opacity\": 1, \"xref\": \"x\", \"yref\": \"y\", \"fillcolor\": \"rgb(188, 189, 34)\", \"y1\": 1.2, \"y0\": 0.8, \"line\": {\"width\": 0}, \"x1\": 1541406640.432181, \"type\": \"rect\", \"x0\": 1541406636.369194}, {\"opacity\": 1, \"xref\": \"x\", \"yref\": \"y\", \"fillcolor\": \"rgb(23, 190, 207)\", \"y1\": 3.2, \"y0\": 2.8, \"line\": {\"width\": 0}, \"x1\": 1541406647.485271, \"type\": \"rect\", \"x0\": 1541406646.864757}, {\"opacity\": 1, \"xref\": \"x\", \"yref\": \"y\", \"fillcolor\": \"rgb(31, 119, 180)\", \"y1\": 1.2, \"y0\": 0.8, \"line\": {\"width\": 0}, \"x1\": 1541406641.671859, \"type\": \"rect\", \"x0\": 1541406641.121648}, {\"opacity\": 1, \"xref\": \"x\", \"yref\": \"y\", \"fillcolor\": \"rgb(255, 127, 14)\", \"y1\": 2.2, \"y0\": 1.8, \"line\": {\"width\": 0}, \"x1\": 1541406652.610589, \"type\": \"rect\", \"x0\": 1541406651.948519}, {\"opacity\": 1, \"xref\": \"x\", \"yref\": \"y\", \"fillcolor\": \"rgb(44, 160, 44)\", \"y1\": 1.2, \"y0\": 0.8, \"line\": {\"width\": 0}, \"x1\": 1541406640.551674, \"type\": \"rect\", \"x0\": 1541406635.465494}, {\"opacity\": 1, \"xref\": \"x\", \"yref\": \"y\", \"fillcolor\": \"rgb(214, 39, 40)\", \"y1\": 0.2, \"y0\": -0.2, \"line\": {\"width\": 0}, \"x1\": 1541407659.743534, \"type\": \"rect\", \"x0\": 1541406634.349985}, {\"opacity\": 1, \"xref\": \"x\", \"yref\": \"y\", \"fillcolor\": \"rgb(148, 103, 189)\", \"y1\": 1.2, \"y0\": 0.8, \"line\": {\"width\": 0}, \"x1\": 1541406653.130943, \"type\": \"rect\", \"x0\": 1541406642.251999}, {\"opacity\": 1, \"xref\": \"x\", \"yref\": \"y\", \"fillcolor\": \"rgb(140, 86, 75)\", \"y1\": 3.2, \"y0\": 2.8, \"line\": {\"width\": 0}, \"x1\": 1541406646.769235, \"type\": \"rect\", \"x0\": 1541406646.039584}, {\"opacity\": 1, \"xref\": \"x\", \"yref\": \"y\", \"fillcolor\": \"rgb(227, 119, 194)\", \"y1\": 2.2, \"y0\": 1.8, \"line\": {\"width\": 0}, \"x1\": 1541406662.589765, \"type\": \"rect\", \"x0\": 1541406652.616809}, {\"opacity\": 1, \"xref\": \"x\", \"yref\": \"y\", \"fillcolor\": \"rgb(127, 127, 127)\", \"y1\": 3.2, \"y0\": 2.8, \"line\": {\"width\": 0}, \"x1\": 1541406655.146785, \"type\": \"rect\", \"x0\": 1541406647.4955}, {\"opacity\": 1, \"xref\": \"x\", \"yref\": \"y\", \"fillcolor\": \"rgb(188, 189, 34)\", \"y1\": 0.2, \"y0\": -0.2, \"line\": {\"width\": 0}, \"x1\": 1541406658.884893, \"type\": \"rect\", \"x0\": 1541406648.015306}, {\"opacity\": 1, \"xref\": \"x\", \"yref\": \"y\", \"fillcolor\": \"rgb(23, 190, 207)\", \"y1\": 0.2, \"y0\": -0.2, \"line\": {\"width\": 0}, \"x1\": 1541407667.475859, \"type\": \"rect\", \"x0\": 1541406647.587187}, {\"opacity\": 1, \"xref\": \"x\", \"yref\": \"y\", \"fillcolor\": \"rgb(31, 119, 180)\", \"y1\": 2.2, \"y0\": 1.8, \"line\": {\"width\": 0}, \"x1\": 1541406651.918358, \"type\": \"rect\", \"x0\": 1541406634.590694}, {\"opacity\": 1, \"xref\": \"x\", \"yref\": \"y\", \"fillcolor\": \"rgb(255, 127, 14)\", \"y1\": 2.2, \"y0\": 1.8, \"line\": {\"width\": 0}, \"x1\": 1541407222.682426, \"type\": \"rect\", \"x0\": 1541406642.661709}, {\"opacity\": 1, \"xref\": \"x\", \"yref\": \"y\", \"fillcolor\": \"rgb(44, 160, 44)\", \"y1\": 1.2, \"y0\": 0.8, \"line\": {\"width\": 0}, \"x1\": 1541407585.58768, \"type\": \"rect\", \"x0\": 1541407584.870744}, {\"opacity\": 1, \"xref\": \"x\", \"yref\": \"y\", \"fillcolor\": \"rgb(214, 39, 40)\", \"y1\": 1.2, \"y0\": 0.8, \"line\": {\"width\": 0}, \"x1\": 1541407593.483842, \"type\": \"rect\", \"x0\": 1541406636.332271}, {\"opacity\": 1, \"xref\": \"x\", \"yref\": \"y\", \"fillcolor\": \"rgb(148, 103, 189)\", \"y1\": 3.2, \"y0\": 2.8, \"line\": {\"width\": 0}, \"x1\": 1541406646.032737, \"type\": \"rect\", \"x0\": 1541406635.120296}, {\"opacity\": 1, \"xref\": \"x\", \"yref\": \"y\", \"fillcolor\": \"rgb(140, 86, 75)\", \"y1\": 3.2, \"y0\": 2.8, \"line\": {\"width\": 0}, \"x1\": 1541406645.906065, \"type\": \"rect\", \"x0\": 1541406635.068417}, {\"opacity\": 1, \"xref\": \"x\", \"yref\": \"y\", \"fillcolor\": \"rgb(227, 119, 194)\", \"y1\": 1.2, \"y0\": 0.8, \"line\": {\"width\": 0}, \"x1\": 1541407593.59473, \"type\": \"rect\", \"x0\": 1541406636.505594}, {\"opacity\": 1, \"xref\": \"x\", \"yref\": \"y\", \"fillcolor\": \"rgb(127, 127, 127)\", \"y1\": 1.2, \"y0\": 0.8, \"line\": {\"width\": 0}, \"x1\": 1541406642.197887, \"type\": \"rect\", \"x0\": 1541406641.683382}, {\"opacity\": 1, \"xref\": \"x\", \"yref\": \"y\", \"fillcolor\": \"rgb(188, 189, 34)\", \"y1\": 3.2, \"y0\": 2.8, \"line\": {\"width\": 0}, \"x1\": 1541406647.869303, \"type\": \"rect\", \"x0\": 1541406637.099633}, {\"opacity\": 1, \"xref\": \"x\", \"yref\": \"y\", \"fillcolor\": \"rgb(23, 190, 207)\", \"y1\": 0.2, \"y0\": -0.2, \"line\": {\"width\": 0}, \"x1\": 1541406647.990885, \"type\": \"rect\", \"x0\": 1541406634.571742}], \"width\": 900, \"xaxis\": {\"zeroline\": false, \"rangeselector\": {\"buttons\": [{\"count\": 7, \"step\": \"day\", \"stepmode\": \"backward\", \"label\": \"1w\"}, {\"count\": 1, \"step\": \"month\", \"stepmode\": \"backward\", \"label\": \"1m\"}, {\"count\": 6, \"step\": \"month\", \"stepmode\": \"backward\", \"label\": \"6m\"}, {\"count\": 1, \"step\": \"year\", \"stepmode\": \"todate\", \"label\": \"YTD\"}, {\"count\": 1, \"step\": \"year\", \"stepmode\": \"backward\", \"label\": \"1y\"}, {\"step\": \"all\"}]}, \"type\": \"date\", \"showgrid\": false}, \"hovermode\": \"closest\"}, {\"linkText\": \"Export to plot.ly\", \"showLink\": true})});</script>"
      ]
     },
     "metadata": {},
     "output_type": "display_data"
    }
   ],
   "source": [
    "#import sys\n",
    "import plotly as py\n",
    "import plotly.figure_factory as ff\n",
    "\n",
    "\n",
    "#df = [dict(Task=\"Job A\", Start='2009-01-01', Finish='2009-02-28', Complete=10),\n",
    "#        dict(Task=\"Job B\", Start='2008-12-05', Finish='2009-04-15', Complete=60),\n",
    "#       dict(Task=\"Job C\", Start='2009-02-20', Finish='2009-05-30', Complete=95)]\n",
    "#df2 = pd.read_csv('https://raw.githubusercontent.com/plotly/datasets/master/gantt_example.csv')\n",
    "fig = ff.create_gantt(df_f, group_tasks=True)\n",
    "py.offline.iplot(fig, filename='gantt-numeric-variable')"
   ]
  },
  {
   "cell_type": "code",
   "execution_count": 50,
   "metadata": {},
   "outputs": [
    {
     "ename": "KeyError",
     "evalue": "0",
     "output_type": "error",
     "traceback": [
      "\u001b[0;31m\u001b[0m",
      "\u001b[0;31mKeyError\u001b[0mTraceback (most recent call last)",
      "\u001b[0;32m<ipython-input-50-e67a1011e6f2>\u001b[0m in \u001b[0;36m<module>\u001b[0;34m()\u001b[0m\n\u001b[1;32m      1\u001b[0m \u001b[0mdf\u001b[0m \u001b[0;34m=\u001b[0m \u001b[0mpd\u001b[0m\u001b[0;34m.\u001b[0m\u001b[0mread_csv\u001b[0m\u001b[0;34m(\u001b[0m\u001b[0;34m\"https://raw.githubusercontent.com/plotly/datasets/master/school_earnings.csv\"\u001b[0m\u001b[0;34m)\u001b[0m\u001b[0;34m\u001b[0m\u001b[0m\n\u001b[1;32m      2\u001b[0m \u001b[0;34m\u001b[0m\u001b[0m\n\u001b[0;32m----> 3\u001b[0;31m \u001b[0mtable\u001b[0m \u001b[0;34m=\u001b[0m \u001b[0mff\u001b[0m\u001b[0;34m.\u001b[0m\u001b[0mcreate_table\u001b[0m\u001b[0;34m(\u001b[0m\u001b[0mdf\u001b[0m\u001b[0;34m)\u001b[0m\u001b[0;34m\u001b[0m\u001b[0m\n\u001b[0m\u001b[1;32m      4\u001b[0m \u001b[0mpy\u001b[0m\u001b[0;34m.\u001b[0m\u001b[0miplot\u001b[0m\u001b[0;34m(\u001b[0m\u001b[0mtable\u001b[0m\u001b[0;34m,\u001b[0m \u001b[0mfilename\u001b[0m\u001b[0;34m=\u001b[0m\u001b[0;34m'jupyter-table1'\u001b[0m\u001b[0;34m)\u001b[0m\u001b[0;34m\u001b[0m\u001b[0m\n",
      "\u001b[0;32m/usr/local/lib/python2.7/dist-packages/plotly/figure_factory/_table.pyc\u001b[0m in \u001b[0;36mcreate_table\u001b[0;34m(table_text, colorscale, font_colors, index, index_title, annotation_offset, height_constant, hoverinfo, **kwargs)\u001b[0m\n\u001b[1;32m    110\u001b[0m     table_matrix = _Table(table_text, colorscale, font_colors, index,\n\u001b[1;32m    111\u001b[0m                           \u001b[0mindex_title\u001b[0m\u001b[0;34m,\u001b[0m \u001b[0mannotation_offset\u001b[0m\u001b[0;34m,\u001b[0m\u001b[0;34m\u001b[0m\u001b[0m\n\u001b[0;32m--> 112\u001b[0;31m                           **kwargs).get_table_matrix()\n\u001b[0m\u001b[1;32m    113\u001b[0m     annotations = _Table(table_text, colorscale, font_colors, index,\n\u001b[1;32m    114\u001b[0m                          \u001b[0mindex_title\u001b[0m\u001b[0;34m,\u001b[0m \u001b[0mannotation_offset\u001b[0m\u001b[0;34m,\u001b[0m\u001b[0;34m\u001b[0m\u001b[0m\n",
      "\u001b[0;32m/usr/local/lib/python2.7/dist-packages/plotly/figure_factory/_table.pyc\u001b[0m in \u001b[0;36m__init__\u001b[0;34m(self, table_text, colorscale, font_colors, index, index_title, annotation_offset, **kwargs)\u001b[0m\n\u001b[1;32m    151\u001b[0m         \u001b[0mself\u001b[0m\u001b[0;34m.\u001b[0m\u001b[0mindex\u001b[0m \u001b[0;34m=\u001b[0m \u001b[0mindex\u001b[0m\u001b[0;34m\u001b[0m\u001b[0m\n\u001b[1;32m    152\u001b[0m         \u001b[0mself\u001b[0m\u001b[0;34m.\u001b[0m\u001b[0mannotation_offset\u001b[0m \u001b[0;34m=\u001b[0m \u001b[0mannotation_offset\u001b[0m\u001b[0;34m\u001b[0m\u001b[0m\n\u001b[0;32m--> 153\u001b[0;31m         \u001b[0mself\u001b[0m\u001b[0;34m.\u001b[0m\u001b[0mx\u001b[0m \u001b[0;34m=\u001b[0m \u001b[0mrange\u001b[0m\u001b[0;34m(\u001b[0m\u001b[0mlen\u001b[0m\u001b[0;34m(\u001b[0m\u001b[0mtable_text\u001b[0m\u001b[0;34m[\u001b[0m\u001b[0;36m0\u001b[0m\u001b[0;34m]\u001b[0m\u001b[0;34m)\u001b[0m\u001b[0;34m)\u001b[0m\u001b[0;34m\u001b[0m\u001b[0m\n\u001b[0m\u001b[1;32m    154\u001b[0m         \u001b[0mself\u001b[0m\u001b[0;34m.\u001b[0m\u001b[0my\u001b[0m \u001b[0;34m=\u001b[0m \u001b[0mrange\u001b[0m\u001b[0;34m(\u001b[0m\u001b[0mlen\u001b[0m\u001b[0;34m(\u001b[0m\u001b[0mtable_text\u001b[0m\u001b[0;34m)\u001b[0m\u001b[0;34m)\u001b[0m\u001b[0;34m\u001b[0m\u001b[0m\n\u001b[1;32m    155\u001b[0m \u001b[0;34m\u001b[0m\u001b[0m\n",
      "\u001b[0;32m/usr/local/lib/python2.7/dist-packages/pandas/core/frame.pyc\u001b[0m in \u001b[0;36m__getitem__\u001b[0;34m(self, key)\u001b[0m\n\u001b[1;32m   2686\u001b[0m             \u001b[0;32mreturn\u001b[0m \u001b[0mself\u001b[0m\u001b[0;34m.\u001b[0m\u001b[0m_getitem_multilevel\u001b[0m\u001b[0;34m(\u001b[0m\u001b[0mkey\u001b[0m\u001b[0;34m)\u001b[0m\u001b[0;34m\u001b[0m\u001b[0m\n\u001b[1;32m   2687\u001b[0m         \u001b[0;32melse\u001b[0m\u001b[0;34m:\u001b[0m\u001b[0;34m\u001b[0m\u001b[0m\n\u001b[0;32m-> 2688\u001b[0;31m             \u001b[0;32mreturn\u001b[0m \u001b[0mself\u001b[0m\u001b[0;34m.\u001b[0m\u001b[0m_getitem_column\u001b[0m\u001b[0;34m(\u001b[0m\u001b[0mkey\u001b[0m\u001b[0;34m)\u001b[0m\u001b[0;34m\u001b[0m\u001b[0m\n\u001b[0m\u001b[1;32m   2689\u001b[0m \u001b[0;34m\u001b[0m\u001b[0m\n\u001b[1;32m   2690\u001b[0m     \u001b[0;32mdef\u001b[0m \u001b[0m_getitem_column\u001b[0m\u001b[0;34m(\u001b[0m\u001b[0mself\u001b[0m\u001b[0;34m,\u001b[0m \u001b[0mkey\u001b[0m\u001b[0;34m)\u001b[0m\u001b[0;34m:\u001b[0m\u001b[0;34m\u001b[0m\u001b[0m\n",
      "\u001b[0;32m/usr/local/lib/python2.7/dist-packages/pandas/core/frame.pyc\u001b[0m in \u001b[0;36m_getitem_column\u001b[0;34m(self, key)\u001b[0m\n\u001b[1;32m   2693\u001b[0m         \u001b[0;31m# get column\u001b[0m\u001b[0;34m\u001b[0m\u001b[0;34m\u001b[0m\u001b[0m\n\u001b[1;32m   2694\u001b[0m         \u001b[0;32mif\u001b[0m \u001b[0mself\u001b[0m\u001b[0;34m.\u001b[0m\u001b[0mcolumns\u001b[0m\u001b[0;34m.\u001b[0m\u001b[0mis_unique\u001b[0m\u001b[0;34m:\u001b[0m\u001b[0;34m\u001b[0m\u001b[0m\n\u001b[0;32m-> 2695\u001b[0;31m             \u001b[0;32mreturn\u001b[0m \u001b[0mself\u001b[0m\u001b[0;34m.\u001b[0m\u001b[0m_get_item_cache\u001b[0m\u001b[0;34m(\u001b[0m\u001b[0mkey\u001b[0m\u001b[0;34m)\u001b[0m\u001b[0;34m\u001b[0m\u001b[0m\n\u001b[0m\u001b[1;32m   2696\u001b[0m \u001b[0;34m\u001b[0m\u001b[0m\n\u001b[1;32m   2697\u001b[0m         \u001b[0;31m# duplicate columns & possible reduce dimensionality\u001b[0m\u001b[0;34m\u001b[0m\u001b[0;34m\u001b[0m\u001b[0m\n",
      "\u001b[0;32m/usr/local/lib/python2.7/dist-packages/pandas/core/generic.pyc\u001b[0m in \u001b[0;36m_get_item_cache\u001b[0;34m(self, item)\u001b[0m\n\u001b[1;32m   2487\u001b[0m         \u001b[0mres\u001b[0m \u001b[0;34m=\u001b[0m \u001b[0mcache\u001b[0m\u001b[0;34m.\u001b[0m\u001b[0mget\u001b[0m\u001b[0;34m(\u001b[0m\u001b[0mitem\u001b[0m\u001b[0;34m)\u001b[0m\u001b[0;34m\u001b[0m\u001b[0m\n\u001b[1;32m   2488\u001b[0m         \u001b[0;32mif\u001b[0m \u001b[0mres\u001b[0m \u001b[0;32mis\u001b[0m \u001b[0mNone\u001b[0m\u001b[0;34m:\u001b[0m\u001b[0;34m\u001b[0m\u001b[0m\n\u001b[0;32m-> 2489\u001b[0;31m             \u001b[0mvalues\u001b[0m \u001b[0;34m=\u001b[0m \u001b[0mself\u001b[0m\u001b[0;34m.\u001b[0m\u001b[0m_data\u001b[0m\u001b[0;34m.\u001b[0m\u001b[0mget\u001b[0m\u001b[0;34m(\u001b[0m\u001b[0mitem\u001b[0m\u001b[0;34m)\u001b[0m\u001b[0;34m\u001b[0m\u001b[0m\n\u001b[0m\u001b[1;32m   2490\u001b[0m             \u001b[0mres\u001b[0m \u001b[0;34m=\u001b[0m \u001b[0mself\u001b[0m\u001b[0;34m.\u001b[0m\u001b[0m_box_item_values\u001b[0m\u001b[0;34m(\u001b[0m\u001b[0mitem\u001b[0m\u001b[0;34m,\u001b[0m \u001b[0mvalues\u001b[0m\u001b[0;34m)\u001b[0m\u001b[0;34m\u001b[0m\u001b[0m\n\u001b[1;32m   2491\u001b[0m             \u001b[0mcache\u001b[0m\u001b[0;34m[\u001b[0m\u001b[0mitem\u001b[0m\u001b[0;34m]\u001b[0m \u001b[0;34m=\u001b[0m \u001b[0mres\u001b[0m\u001b[0;34m\u001b[0m\u001b[0m\n",
      "\u001b[0;32m/usr/local/lib/python2.7/dist-packages/pandas/core/internals.pyc\u001b[0m in \u001b[0;36mget\u001b[0;34m(self, item, fastpath)\u001b[0m\n\u001b[1;32m   4113\u001b[0m \u001b[0;34m\u001b[0m\u001b[0m\n\u001b[1;32m   4114\u001b[0m             \u001b[0;32mif\u001b[0m \u001b[0;32mnot\u001b[0m \u001b[0misna\u001b[0m\u001b[0;34m(\u001b[0m\u001b[0mitem\u001b[0m\u001b[0;34m)\u001b[0m\u001b[0;34m:\u001b[0m\u001b[0;34m\u001b[0m\u001b[0m\n\u001b[0;32m-> 4115\u001b[0;31m                 \u001b[0mloc\u001b[0m \u001b[0;34m=\u001b[0m \u001b[0mself\u001b[0m\u001b[0;34m.\u001b[0m\u001b[0mitems\u001b[0m\u001b[0;34m.\u001b[0m\u001b[0mget_loc\u001b[0m\u001b[0;34m(\u001b[0m\u001b[0mitem\u001b[0m\u001b[0;34m)\u001b[0m\u001b[0;34m\u001b[0m\u001b[0m\n\u001b[0m\u001b[1;32m   4116\u001b[0m             \u001b[0;32melse\u001b[0m\u001b[0;34m:\u001b[0m\u001b[0;34m\u001b[0m\u001b[0m\n\u001b[1;32m   4117\u001b[0m                 \u001b[0mindexer\u001b[0m \u001b[0;34m=\u001b[0m \u001b[0mnp\u001b[0m\u001b[0;34m.\u001b[0m\u001b[0marange\u001b[0m\u001b[0;34m(\u001b[0m\u001b[0mlen\u001b[0m\u001b[0;34m(\u001b[0m\u001b[0mself\u001b[0m\u001b[0;34m.\u001b[0m\u001b[0mitems\u001b[0m\u001b[0;34m)\u001b[0m\u001b[0;34m)\u001b[0m\u001b[0;34m[\u001b[0m\u001b[0misna\u001b[0m\u001b[0;34m(\u001b[0m\u001b[0mself\u001b[0m\u001b[0;34m.\u001b[0m\u001b[0mitems\u001b[0m\u001b[0;34m)\u001b[0m\u001b[0;34m]\u001b[0m\u001b[0;34m\u001b[0m\u001b[0m\n",
      "\u001b[0;32m/usr/local/lib/python2.7/dist-packages/pandas/core/indexes/base.pyc\u001b[0m in \u001b[0;36mget_loc\u001b[0;34m(self, key, method, tolerance)\u001b[0m\n\u001b[1;32m   3078\u001b[0m                 \u001b[0;32mreturn\u001b[0m \u001b[0mself\u001b[0m\u001b[0;34m.\u001b[0m\u001b[0m_engine\u001b[0m\u001b[0;34m.\u001b[0m\u001b[0mget_loc\u001b[0m\u001b[0;34m(\u001b[0m\u001b[0mkey\u001b[0m\u001b[0;34m)\u001b[0m\u001b[0;34m\u001b[0m\u001b[0m\n\u001b[1;32m   3079\u001b[0m             \u001b[0;32mexcept\u001b[0m \u001b[0mKeyError\u001b[0m\u001b[0;34m:\u001b[0m\u001b[0;34m\u001b[0m\u001b[0m\n\u001b[0;32m-> 3080\u001b[0;31m                 \u001b[0;32mreturn\u001b[0m \u001b[0mself\u001b[0m\u001b[0;34m.\u001b[0m\u001b[0m_engine\u001b[0m\u001b[0;34m.\u001b[0m\u001b[0mget_loc\u001b[0m\u001b[0;34m(\u001b[0m\u001b[0mself\u001b[0m\u001b[0;34m.\u001b[0m\u001b[0m_maybe_cast_indexer\u001b[0m\u001b[0;34m(\u001b[0m\u001b[0mkey\u001b[0m\u001b[0;34m)\u001b[0m\u001b[0;34m)\u001b[0m\u001b[0;34m\u001b[0m\u001b[0m\n\u001b[0m\u001b[1;32m   3081\u001b[0m \u001b[0;34m\u001b[0m\u001b[0m\n\u001b[1;32m   3082\u001b[0m         \u001b[0mindexer\u001b[0m \u001b[0;34m=\u001b[0m \u001b[0mself\u001b[0m\u001b[0;34m.\u001b[0m\u001b[0mget_indexer\u001b[0m\u001b[0;34m(\u001b[0m\u001b[0;34m[\u001b[0m\u001b[0mkey\u001b[0m\u001b[0;34m]\u001b[0m\u001b[0;34m,\u001b[0m \u001b[0mmethod\u001b[0m\u001b[0;34m=\u001b[0m\u001b[0mmethod\u001b[0m\u001b[0;34m,\u001b[0m \u001b[0mtolerance\u001b[0m\u001b[0;34m=\u001b[0m\u001b[0mtolerance\u001b[0m\u001b[0;34m)\u001b[0m\u001b[0;34m\u001b[0m\u001b[0m\n",
      "\u001b[0;32mpandas/_libs/index.pyx\u001b[0m in \u001b[0;36mpandas._libs.index.IndexEngine.get_loc\u001b[0;34m()\u001b[0m\n",
      "\u001b[0;32mpandas/_libs/index.pyx\u001b[0m in \u001b[0;36mpandas._libs.index.IndexEngine.get_loc\u001b[0;34m()\u001b[0m\n",
      "\u001b[0;32mpandas/_libs/hashtable_class_helper.pxi\u001b[0m in \u001b[0;36mpandas._libs.hashtable.PyObjectHashTable.get_item\u001b[0;34m()\u001b[0m\n",
      "\u001b[0;32mpandas/_libs/hashtable_class_helper.pxi\u001b[0m in \u001b[0;36mpandas._libs.hashtable.PyObjectHashTable.get_item\u001b[0;34m()\u001b[0m\n",
      "\u001b[0;31mKeyError\u001b[0m: 0"
     ]
    }
   ],
   "source": [
    "df = pd.read_csv(\"https://raw.githubusercontent.com/plotly/datasets/master/school_earnings.csv\")\n",
    "\n",
    "table = ff.create_table(df)\n",
    "py.iplot(table, filename='jupyter-table1')"
   ]
  },
  {
   "cell_type": "code",
   "execution_count": null,
   "metadata": {},
   "outputs": [],
   "source": []
  }
 ],
 "metadata": {
  "kernelspec": {
   "display_name": "Python 2",
   "language": "python",
   "name": "python2"
  },
  "language_info": {
   "codemirror_mode": {
    "name": "ipython",
    "version": 2
   },
   "file_extension": ".py",
   "mimetype": "text/x-python",
   "name": "python",
   "nbconvert_exporter": "python",
   "pygments_lexer": "ipython2",
   "version": "2.7.12"
  }
 },
 "nbformat": 4,
 "nbformat_minor": 2
}
